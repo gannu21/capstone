{
 "cells": [
  {
   "cell_type": "markdown",
   "metadata": {
    "id": "Q3XfBv4rs-v3"
   },
   "source": [
    "### Chest X-Ray Images (Pneumonia) Detection Using Convolutional Neural Networks with pytorch\n",
    "\n",
    "\n",
    "**Introduction:**\n",
    "\n",
    "Image Classification is an approach that is being widely utilised for different purposes in the realm of medical imaging and diagnostics. Pneumonia, a potentially life-threatening respiratory infection, poses a significant global health challenge, and rapid and accurate diagnosis is paramount for effective treatment. In an era where healthcare technology is advancing at an unprecedented pace, the importance of this method can't be overstated.Convolutional Neural Networks (CNNs) have emerged as a powerful image classification tool in image analysis, which can also be utilised to detect Pneumonia in Chest X-Ray Images which provides the capabilities to healthcare professionals in identifying pneumonia in diverse clinical scenarios, from crowded emergency rooms to remote telemedicine consultations in real-time.\n",
    "\n"
   ]
  },
  {
   "cell_type": "markdown",
   "metadata": {
    "id": "laDIQ5uHtBkI"
   },
   "source": [
    "**Dataset:**\n",
    "\n",
    "- The dataset is divided into three folders - 'train', 'test', and 'val', and it contains subfolders for different image categories, specifically 'Pneumonia' and 'Normal'. There are a total of 5,863 X-Ray images in JPEG format, falling into these two categories.\n",
    "\n",
    "- These chest X-ray images were obtained from pediatric patients aged one to five years old. These images were collected at the Guangzhou Women and Children’s Medical Center in Guangzhou, China, as part of their routine clinical care.\n",
    "\n",
    "- To ensure the quality of the chest X-ray images, they were initially screened to remove any low-quality or unreadable scans. After this, two expert physicians examined and graded the diagnoses before using them to train the AI system. To further ensure accuracy, a third expert checked the evaluation set to account for any grading errors in the diagnoses.\n",
    "\n",
    "Link to the data card on Kaggle: [Chest X-Ray Images (Pneumonia)](https://www.kaggle.com/datasets/paultimothymooney/chest-xray-pneumonia/data)\n",
    "\n",
    "Link to second Dataset on Kaggle: [COVID-19_Radiography_Dataset](https://www.kaggle.com/datasets/tawsifurrahman/covid19-radiography-database)"
   ]
  },
  {
   "cell_type": "markdown",
   "metadata": {
    "id": "4rSgjokLtMMF"
   },
   "source": [
    "Installing and Importing Dependencies"
   ]
  },
  {
   "cell_type": "code",
   "execution_count": null,
   "metadata": {
    "colab": {
     "base_uri": "https://localhost:8080/"
    },
    "id": "4crY9KYqs_TX",
    "outputId": "32c5c046-1988-40fc-8c31-0f46c5dffbfa"
   },
   "outputs": [
    {
     "name": "stdout",
     "output_type": "stream",
     "text": [
      "Requirement already satisfied: kaggle in /usr/local/lib/python3.10/dist-packages (1.5.16)\n",
      "Requirement already satisfied: torch in /usr/local/lib/python3.10/dist-packages (2.1.0+cu118)\n",
      "Requirement already satisfied: torchvision in /usr/local/lib/python3.10/dist-packages (0.16.0+cu118)\n",
      "Requirement already satisfied: six>=1.10 in /usr/local/lib/python3.10/dist-packages (from kaggle) (1.16.0)\n",
      "Requirement already satisfied: certifi in /usr/local/lib/python3.10/dist-packages (from kaggle) (2023.7.22)\n",
      "Requirement already satisfied: python-dateutil in /usr/local/lib/python3.10/dist-packages (from kaggle) (2.8.2)\n",
      "Requirement already satisfied: requests in /usr/local/lib/python3.10/dist-packages (from kaggle) (2.31.0)\n",
      "Requirement already satisfied: tqdm in /usr/local/lib/python3.10/dist-packages (from kaggle) (4.66.1)\n",
      "Requirement already satisfied: python-slugify in /usr/local/lib/python3.10/dist-packages (from kaggle) (8.0.1)\n",
      "Requirement already satisfied: urllib3 in /usr/local/lib/python3.10/dist-packages (from kaggle) (2.0.7)\n",
      "Requirement already satisfied: bleach in /usr/local/lib/python3.10/dist-packages (from kaggle) (6.1.0)\n",
      "Requirement already satisfied: filelock in /usr/local/lib/python3.10/dist-packages (from torch) (3.12.4)\n",
      "Requirement already satisfied: typing-extensions in /usr/local/lib/python3.10/dist-packages (from torch) (4.5.0)\n",
      "Requirement already satisfied: sympy in /usr/local/lib/python3.10/dist-packages (from torch) (1.12)\n",
      "Requirement already satisfied: networkx in /usr/local/lib/python3.10/dist-packages (from torch) (3.2)\n",
      "Requirement already satisfied: jinja2 in /usr/local/lib/python3.10/dist-packages (from torch) (3.1.2)\n",
      "Requirement already satisfied: fsspec in /usr/local/lib/python3.10/dist-packages (from torch) (2023.6.0)\n",
      "Requirement already satisfied: triton==2.1.0 in /usr/local/lib/python3.10/dist-packages (from torch) (2.1.0)\n",
      "Requirement already satisfied: numpy in /usr/local/lib/python3.10/dist-packages (from torchvision) (1.23.5)\n",
      "Requirement already satisfied: pillow!=8.3.*,>=5.3.0 in /usr/local/lib/python3.10/dist-packages (from torchvision) (9.4.0)\n",
      "Requirement already satisfied: webencodings in /usr/local/lib/python3.10/dist-packages (from bleach->kaggle) (0.5.1)\n",
      "Requirement already satisfied: MarkupSafe>=2.0 in /usr/local/lib/python3.10/dist-packages (from jinja2->torch) (2.1.3)\n",
      "Requirement already satisfied: text-unidecode>=1.3 in /usr/local/lib/python3.10/dist-packages (from python-slugify->kaggle) (1.3)\n",
      "Requirement already satisfied: charset-normalizer<4,>=2 in /usr/local/lib/python3.10/dist-packages (from requests->kaggle) (3.3.1)\n",
      "Requirement already satisfied: idna<4,>=2.5 in /usr/local/lib/python3.10/dist-packages (from requests->kaggle) (3.4)\n",
      "Requirement already satisfied: mpmath>=0.19 in /usr/local/lib/python3.10/dist-packages (from sympy->torch) (1.3.0)\n"
     ]
    }
   ],
   "source": [
    "!pip install kaggle torch torchvision"
   ]
  },
  {
   "cell_type": "markdown",
   "metadata": {
    "id": "AAuw17-rtOdE"
   },
   "source": [
    "Downloading Data using Kaggle API directly to colab environment."
   ]
  },
  {
   "cell_type": "code",
   "execution_count": null,
   "metadata": {
    "colab": {
     "base_uri": "https://localhost:8080/"
    },
    "id": "FDK-zhhItOtE",
    "outputId": "2e388a05-c6ff-44c9-c4d6-d1bf5142dd6b"
   },
   "outputs": [
    {
     "name": "stdout",
     "output_type": "stream",
     "text": [
      "Mounted at /content/drive\n"
     ]
    }
   ],
   "source": [
    "# Mount Google Drive to the Colab Notebook (if using Colab)\n",
    "from google.colab import drive\n",
    "drive.mount('/content/drive')"
   ]
  },
  {
   "cell_type": "code",
   "execution_count": null,
   "metadata": {
    "colab": {
     "base_uri": "https://localhost:8080/"
    },
    "id": "hROyc9iAtQuO",
    "outputId": "dc96943f-e7ad-4151-8ce8-816879ad6176"
   },
   "outputs": [
    {
     "name": "stdout",
     "output_type": "stream",
     "text": [
      "Downloading chest-xray-pneumonia.zip to /content\n",
      "100% 2.29G/2.29G [00:15<00:00, 148MB/s]\n",
      "100% 2.29G/2.29G [00:15<00:00, 163MB/s]\n"
     ]
    }
   ],
   "source": [
    "import os\n",
    "# from google.colab import files\n",
    "# files.upload()  # Upload your Kaggle API key (kaggle.json) here.\n",
    "# !mv kaggle.json /content/drive/MyDrive/kaggle\n",
    "os.environ['KAGGLE_CONFIG_DIR'] = '/content/drive/MyDrive/kaggle'\n",
    "!kaggle datasets download -d paultimothymooney/chest-xray-pneumonia\n",
    "!unzip -q -o chest-xray-pneumonia.zip"
   ]
  },
  {
   "cell_type": "code",
   "execution_count": null,
   "metadata": {
    "colab": {
     "base_uri": "https://localhost:8080/"
    },
    "id": "aXhZUf5xXqZC",
    "outputId": "b601839e-e2b1-4941-8368-e3707c0305c3"
   },
   "outputs": [
    {
     "name": "stdout",
     "output_type": "stream",
     "text": [
      "Downloading covid19-radiography-database.zip to /content\n",
      " 99% 767M/778M [00:06<00:00, 117MB/s] \n",
      "100% 778M/778M [00:06<00:00, 119MB/s]\n"
     ]
    }
   ],
   "source": [
    "!kaggle datasets download -d tawsifurrahman/covid19-radiography-database\n",
    "!unzip -q -o covid19-radiography-database.zip"
   ]
  },
  {
   "cell_type": "code",
   "execution_count": null,
   "metadata": {
    "id": "kVJVJbg2Ynvy"
   },
   "outputs": [],
   "source": [
    "import shutil"
   ]
  },
  {
   "cell_type": "code",
   "execution_count": 2,
   "metadata": {
    "colab": {
     "base_uri": "https://localhost:8080/"
    },
    "id": "Fz4RamdDYUAf",
    "outputId": "eb18024a-cea3-4cb8-df3f-452534d0d81b"
   },
   "outputs": [
    {
     "name": "stdout",
     "output_type": "stream",
     "text": [
      "3000 images copied successfully.\n"
     ]
    }
   ],
   "source": [
    "from_path = '/content/COVID-19_Radiography_Dataset/Normal/images/'\n",
    "to_path = '/content/chest_xray/train/NORMAL/'\n",
    "\n",
    "# Check if the destination directory exists, if not, create it\n",
    "if not os.path.exists(to_path):\n",
    "    os.makedirs(to_path)\n",
    "\n",
    "# Get a list of all files in the from_path directory\n",
    "files = os.listdir(from_path)\n",
    "\n",
    "# Initialize a counter\n",
    "count = 0\n",
    "\n",
    "# Copy each file to the to_path directory\n",
    "for file in files:\n",
    "    # Break the loop if 3000 images have been copied\n",
    "    if count == 3000:\n",
    "        break\n",
    "\n",
    "    full_file_path = os.path.join(from_path, file)\n",
    "\n",
    "    if os.path.isfile(full_file_path):\n",
    "        shutil.copy(full_file_path, to_path)\n",
    "        count += 1  # Increment the counter\n",
    "\n",
    "print(\"3000 images copied successfully.\")"
   ]
  },
  {
   "cell_type": "code",
   "execution_count": 1,
   "metadata": {},
   "outputs": [
    {
     "name": "stdout",
     "output_type": "stream",
     "text": [
      "3000 images copied successfully.\n"
     ]
    }
   ],
   "source": [
    "from_path = '/content/COVID-19_Radiography_Dataset/Normal/images/'\n",
    "to_path = '/content/chest_xray/chest_xray/train/NORMAL/'\n",
    "\n",
    "# Check if the destination directory exists, if not, create it\n",
    "if not os.path.exists(to_path):\n",
    "    os.makedirs(to_path)\n",
    "\n",
    "# Get a list of all files in the from_path directory\n",
    "files = os.listdir(from_path)\n",
    "\n",
    "# Initialize a counter\n",
    "count = 0\n",
    "\n",
    "# Copy each file to the to_path directory\n",
    "for file in files:\n",
    "    # Break the loop if 3000 images have been copied\n",
    "    if count == 3000:\n",
    "        break\n",
    "\n",
    "    full_file_path = os.path.join(from_path, file)\n",
    "\n",
    "    if os.path.isfile(full_file_path):\n",
    "        shutil.copy(full_file_path, to_path)\n",
    "        count += 1  # Increment the counter\n",
    "\n",
    "print(\"3000 images copied successfully.\")"
   ]
  },
  {
   "cell_type": "markdown",
   "metadata": {
    "id": "9mYCd4GftV2L"
   },
   "source": [
    "Importing Modules"
   ]
  },
  {
   "cell_type": "code",
   "execution_count": null,
   "metadata": {
    "id": "tWob300gtXCk"
   },
   "outputs": [],
   "source": [
    "import torch\n",
    "import torch.nn as nn\n",
    "import torch.optim as optim\n",
    "import torch.nn.functional as F\n",
    "from torch.utils.data import DataLoader, ConcatDataset, random_split, SubsetRandomSampler\n",
    "import torchvision.datasets as datasets\n",
    "import torchvision.transforms as transforms\n",
    "from torchvision.utils import make_grid\n",
    "from sklearn.metrics import classification_report, confusion_matrix\n",
    "import numpy as np\n",
    "import pandas as pd\n",
    "\n",
    "from PIL import Image\n",
    "import matplotlib.pyplot as plt\n",
    "import seaborn as sns\n",
    "\n",
    "import os\n",
    "import json\n",
    "import gc\n",
    "import pathlib\n"
   ]
  },
  {
   "cell_type": "code",
   "execution_count": null,
   "metadata": {
    "id": "gNgCtoCttwID"
   },
   "outputs": [],
   "source": [
    "def calculate_transforms(data_dir):\n",
    "    # Modify this line to ensure the dataset's transform converts images to tensors\n",
    "    train_dataset = datasets.ImageFolder(data_dir+\"train/\", transform=transforms.ToTensor())\n",
    "    first_train_image, _ = train_dataset[0]\n",
    "\n",
    "    # Make sure first_train_image is a tensor before calling unsqueeze\n",
    "    if isinstance(first_train_image, Image.Image):\n",
    "        first_train_image = transforms.ToTensor()(first_train_image)\n",
    "\n",
    "    first_train_image = first_train_image.unsqueeze(0)  # Add batch dimension\n",
    "    grid_image = make_grid(first_train_image, normalize=True)  # Create a grid to get a single image\n",
    "\n",
    "    # Compute mean and std for the first test image\n",
    "    mean = grid_image.mean(dim=[1,2])\n",
    "    std = grid_image.std(dim=[1,2])\n",
    "\n",
    "    data_transforms = {\n",
    "        'train': transforms.Compose([\n",
    "            transforms.RandomRotation(15),\n",
    "            transforms.RandomResizedCrop(112),\n",
    "            transforms.RandomAffine(0, translate=(0.1, 0.1)),\n",
    "            transforms.ToTensor(),\n",
    "            transforms.Normalize(mean.tolist(), std.tolist())\n",
    "        ]),\n",
    "        'val': transforms.Compose([\n",
    "            transforms.Resize(size=(112, 112)),\n",
    "            transforms.ToTensor(),\n",
    "            transforms.Normalize(mean.tolist(), std.tolist())\n",
    "        ]),\n",
    "    }\n",
    "\n",
    "    # Save the transform parameters to a json file for future use\n",
    "    transform_parameters = {\"mean\": mean.tolist(), \"std\": std.tolist()}\n",
    "    with open('transform_parameters.json', 'w') as f:\n",
    "        json.dump(transform_parameters, f)\n",
    "\n",
    "    return data_transforms\n",
    "\n",
    "\n",
    "# def get_data_loaders(data_dir: str, data_transforms: dict, batch_size: int = 64):\n",
    "#     # Loading the datasets with transformations\n",
    "#     train_dataset = datasets.ImageFolder(data_dir+\"train/\", transform=data_transforms['train'])\n",
    "#     test_dataset = datasets.ImageFolder(data_dir+\"test/\", transform=data_transforms['val'])\n",
    "#     val_dataset = datasets.ImageFolder(data_dir+\"val/\", transform=data_transforms['val'])\n",
    "\n",
    "#     # Data loaders\n",
    "#     train_loader = DataLoader(train_dataset, batch_size=batch_size, shuffle=True)\n",
    "#     test_loader = DataLoader(test_dataset, batch_size=batch_size, shuffle=True)\n",
    "#     val_loader = DataLoader(val_dataset, batch_size=batch_size, shuffle=True)\n",
    "\n",
    "#     return train_dataset, test_dataset, val_dataset, train_loader, test_loader, val_loader"
   ]
  },
  {
   "cell_type": "code",
   "execution_count": null,
   "metadata": {
    "id": "CRnOMAJuun8c"
   },
   "outputs": [],
   "source": [
    "from torch.utils.data import random_split\n",
    "\n",
    "def get_data_loaders(data_dir: str, data_transforms: dict, batch_size: int = 4):\n",
    "    # Loading the datasets with transformations\n",
    "    full_train_dataset = datasets.ImageFolder(data_dir+\"train/\", transform=data_transforms['train'])\n",
    "    test_dataset = datasets.ImageFolder(data_dir+\"test/\", transform=data_transforms['val'])\n",
    "\n",
    "    # Calculate the lengths for train and validation datasets (80-20 split)\n",
    "    train_len = int(len(full_train_dataset) * 0.8)\n",
    "    val_len = len(full_train_dataset) - train_len\n",
    "\n",
    "    # Randomly split the full training dataset into training and validation datasets\n",
    "    train_dataset, val_dataset = random_split(full_train_dataset, [train_len, val_len])\n",
    "\n",
    "    # Data loaders\n",
    "    train_loader = DataLoader(train_dataset, batch_size=batch_size, shuffle=True)\n",
    "    test_loader = DataLoader(test_dataset, batch_size=batch_size, shuffle=False)\n",
    "    val_loader = DataLoader(val_dataset, batch_size=batch_size, shuffle=False)\n",
    "\n",
    "    return train_dataset, test_dataset, val_dataset, train_loader, test_loader, val_loader\n"
   ]
  },
  {
   "cell_type": "code",
   "execution_count": null,
   "metadata": {
    "id": "imAr8rsXwWJM"
   },
   "outputs": [],
   "source": [
    "data_dir = \"/content/chest_xray/chest_xray/\"\n",
    "data_transforms = calculate_transforms(data_dir)\n",
    "train_dataset, test_dataset, val_dataset, train_loader, test_loader, val_loader = get_data_loaders(data_dir, data_transforms)"
   ]
  },
  {
   "cell_type": "code",
   "execution_count": null,
   "metadata": {
    "colab": {
     "base_uri": "https://localhost:8080/"
    },
    "id": "nRl-eXysZ6Bm",
    "outputId": "e8b90197-da03-4017-eaa6-a0dd0cee4ec3"
   },
   "outputs": [
    {
     "name": "stdout",
     "output_type": "stream",
     "text": [
      "Number of different types of images found: 2\n",
      "Types of images detected:\n",
      "1. PNEUMONIA\n",
      "2. NORMAL\n",
      "Number of different types of images found: 2\n",
      "Types of images detected:\n",
      "1. PNEUMONIA\n",
      "2. NORMAL\n",
      "Number of different types of images found: 2\n",
      "Types of images detected:\n",
      "1. PNEUMONIA\n",
      "2. NORMAL\n"
     ]
    }
   ],
   "source": [
    "def count_different_image_types(path):\n",
    "    subdirectories = [subdir.name for subdir in os.scandir(path) if subdir.is_dir()]\n",
    "    num_image_types = len(subdirectories)\n",
    "    print(\"Number of different types of images found:\", num_image_types)\n",
    "    print(\"Types of images detected:\")\n",
    "    for i, image_type in enumerate(subdirectories, start=1):\n",
    "        print(f\"{i}. {image_type}\")\n",
    "\n",
    "count_different_image_types('chest_xray/train')\n",
    "count_different_image_types('chest_xray/test')\n",
    "count_different_image_types('chest_xray/val')"
   ]
  },
  {
   "cell_type": "code",
   "execution_count": null,
   "metadata": {
    "id": "cQzUwwx6Z6EO"
   },
   "outputs": [],
   "source": [
    "# define functions for getting class distribution plots and sumary stats\n",
    "def plot_class_distribution(data, data_name):\n",
    "    class_counts = torch.zeros(len(data.classes))\n",
    "    for _, y in data:\n",
    "        class_counts[y] += 1\n",
    "\n",
    "    plt.bar(data.classes, class_counts)\n",
    "    plt.xlabel(\"Class\")\n",
    "    plt.ylabel(\"Number of images\")\n",
    "    plt.title(f\"Class distribution in the {data_name} dataset\")\n",
    "    plt.show()\n",
    "\n",
    "def summary_stats(dataset):\n",
    "    mean = torch.zeros(3)\n",
    "    std = torch.zeros(3)\n",
    "\n",
    "    for x, _ in dataset:\n",
    "        mean += x.mean(dim=(1, 2))  # Compute mean along channels\n",
    "        std += x.std(dim=(1, 2))  # Compute std along channels\n",
    "\n",
    "    mean /= len(dataset)\n",
    "    std /= len(dataset)\n",
    "\n",
    "    return mean.tolist(), std.tolist()\n"
   ]
  },
  {
   "cell_type": "code",
   "execution_count": null,
   "metadata": {
    "colab": {
     "base_uri": "https://localhost:8080/",
     "height": 509
    },
    "id": "-fxzdr4NZ6HR",
    "outputId": "8c6bd726-16be-4c34-ef10-19cf2e2b0bd6"
   },
   "outputs": [
    {
     "data": {
      "image/png": "[encoded data removed]",
      "text/plain": [
       "<Figure size 640x480 with 1 Axes>"
      ]
     },
     "metadata": {},
     "output_type": "display_data"
    },
    {
     "name": "stdout",
     "output_type": "stream",
     "text": [
      "Train dataset mean: [-0.047903455793857574, -0.047903455793857574, -0.047903455793857574], standard deviation: [0.9403010010719299, 0.9403010010719299, 0.9403010010719299]\n"
     ]
    }
   ],
   "source": [
    "plot_class_distribution(train_dataset, \"Train\")\n",
    "mean, std = summary_stats(train_dataset)\n",
    "print(f\"Train dataset mean: {mean}, standard deviation: {std}\")"
   ]
  },
  {
   "cell_type": "code",
   "execution_count": null,
   "metadata": {
    "id": "72JqifpWyobi"
   },
   "outputs": [],
   "source": [
    "\n",
    "def get_model(device):\n",
    "    \"\"\"\n",
    "    Function to get the model.\n",
    "    \"\"\"\n",
    "    class CNN(nn.Module):\n",
    "        def __init__(self):\n",
    "            super(CNN, self).__init__()\n",
    "            self.conv1 = nn.Conv2d(3, 16, 3, padding=1)\n",
    "            self.conv2 = nn.Conv2d(16, 32, 3, padding=1)\n",
    "            self.conv3 = nn.Conv2d(32, 64, 3, padding=1)\n",
    "            self.pool = nn.MaxPool2d(2, 2)\n",
    "            self.fc1 = nn.Linear(64 * 7 * 7, 512)\n",
    "            self.fc2 = nn.Linear(512, 2)\n",
    "            self.dropout = nn.Dropout(0.5)\n",
    "\n",
    "        def forward(self, x):\n",
    "            x = self.pool(F.relu(self.conv1(x)))\n",
    "            x = self.pool(F.relu(self.conv2(x)))\n",
    "            x = self.pool(F.relu(self.conv3(x)))\n",
    "            x = x.view(-1, 64 * 7 * 7)\n",
    "            x = F.relu(self.fc1(x))\n",
    "            x = self.dropout(x)\n",
    "            x = self.fc2(x)\n",
    "            return x\n",
    "\n",
    "    model = CNN().to(device)\n",
    "    return model"
   ]
  },
  {
   "cell_type": "code",
   "execution_count": null,
   "metadata": {
    "id": "mfsl1W_-ynAA"
   },
   "outputs": [],
   "source": [
    "\n",
    "def train_model(model, train_loader, val_loader, device, num_epochs=10, learning_rate=0.0001):\n",
    "    \"\"\"\n",
    "    Function to train the model.\n",
    "    \"\"\"\n",
    "    criterion = nn.CrossEntropyLoss()\n",
    "    optimizer = optim.Adam(model.parameters(), lr=learning_rate)\n",
    "\n",
    "    best_val_loss = float(\"inf\")\n",
    "    train_loss_history, val_loss_history = [], []\n",
    "    train_accuracy_history, val_accuracy_history = [], []\n",
    "\n",
    "    for epoch in range(num_epochs):\n",
    "        # Training\n",
    "        model.train()\n",
    "        running_loss, correct, total = 0.0, 0, 0\n",
    "        for inputs, labels in train_loader:\n",
    "            inputs, labels = inputs.to(device), labels.to(device)\n",
    "\n",
    "            optimizer.zero_grad()\n",
    "            outputs = model(inputs)\n",
    "            loss = criterion(outputs, labels)\n",
    "            loss.backward()\n",
    "            optimizer.step()\n",
    "\n",
    "            running_loss += loss.item()\n",
    "            _, predicted = torch.max(outputs.data, 1)\n",
    "            total += labels.size(0)\n",
    "            correct += (predicted == labels).sum().item()\n",
    "\n",
    "        train_accuracy = 100 * correct / total\n",
    "        train_loss = running_loss / len(train_loader)\n",
    "        train_loss_history.append(train_loss)\n",
    "        train_accuracy_history.append(train_accuracy)\n",
    "\n",
    "        # Validation\n",
    "        model.eval()\n",
    "        running_loss, correct, total = 0.0, 0, 0\n",
    "        with torch.no_grad():\n",
    "            for inputs, labels in val_loader:\n",
    "                inputs, labels = inputs.to(device), labels.to(device)\n",
    "\n",
    "                outputs = model(inputs)\n",
    "                loss = criterion(outputs, labels)\n",
    "\n",
    "                running_loss += loss.item()\n",
    "                _, predicted = torch.max(outputs.data, 1)\n",
    "                total += labels.size(0)\n",
    "                correct += (predicted == labels).sum().item()\n",
    "\n",
    "        val_accuracy = 100 * correct / total\n",
    "        val_loss = running_loss / len(val_loader)\n",
    "        val_loss_history.append(val_loss)\n",
    "        val_accuracy_history.append(val_accuracy)\n",
    "\n",
    "        print(f'Epoch {epoch+1}/{num_epochs}, '\n",
    "              f'Train Loss: {train_loss:.4f}, Train Acc: {train_accuracy:.2f}%, '\n",
    "              f'Val Loss: {val_loss:.4f}, Val Acc: {val_accuracy:.2f}%')\n",
    "\n",
    "        # Create a directory if not exists\n",
    "        saved_models_dir = 'saved_models'\n",
    "        if not os.path.exists(saved_models_dir):\n",
    "            os.makedirs(saved_models_dir)\n",
    "\n",
    "        # Save the model if it has the best validation loss so far\n",
    "        if val_loss < best_val_loss:\n",
    "            best_val_loss = val_loss\n",
    "            best_model_path = os.path.join(saved_models_dir, 'best_model.pth')\n",
    "            torch.save(model.state_dict(), best_model_path)\n",
    "            print('Model checkpoint saved at {}'.format(best_model_path))\n",
    "\n",
    "    return model, train_loss_history, train_accuracy_history, val_loss_history, val_accuracy_history\n"
   ]
  },
  {
   "cell_type": "code",
   "execution_count": null,
   "metadata": {
    "id": "QowUfBicynP-"
   },
   "outputs": [],
   "source": [
    "def evaluate_model(model, test_loader, device, class_names):\n",
    "    \"\"\"\n",
    "    Function to evaluate the model.\n",
    "    \"\"\"\n",
    "    model.eval()\n",
    "    correct, total = 0, 0\n",
    "    true_labels, pred_labels = [], []\n",
    "\n",
    "    with torch.no_grad():\n",
    "        for inputs, labels in test_loader:\n",
    "            inputs, labels = inputs.to(device), labels.to(device)\n",
    "            outputs = model(inputs)\n",
    "            _, predicted = torch.max(outputs.data, 1)\n",
    "            total += labels.size(0)\n",
    "            correct += (predicted == labels).sum().item()\n",
    "\n",
    "            true_labels.extend(labels.cpu().numpy())\n",
    "            pred_labels.extend(predicted.cpu().numpy())\n",
    "\n",
    "    accuracy = 100 * correct / total\n",
    "\n",
    "    # Classification report\n",
    "    print('Classification Report:')\n",
    "    print(classification_report(true_labels, pred_labels, target_names=class_names))\n",
    "\n",
    "    # Confusion matrix\n",
    "    conf_matrix = confusion_matrix(true_labels, pred_labels)\n",
    "    df_cm = pd.DataFrame(conf_matrix, index=class_names, columns=class_names)\n",
    "    plt.figure(figsize=(5,5))\n",
    "    sns.heatmap(df_cm, annot=True, fmt=\"d\", cmap='Blues')\n",
    "    plt.title('Confusion Matrix')\n",
    "    plt.xlabel('Predicted')\n",
    "    plt.ylabel('True')\n",
    "    plt.savefig(\"confusion_matrix.png\")\n",
    "    plt.show()\n",
    "\n",
    "    return accuracy, true_labels, pred_labels"
   ]
  },
  {
   "cell_type": "code",
   "execution_count": null,
   "metadata": {
    "id": "vBLC2Z2zyr7K"
   },
   "outputs": [],
   "source": [
    "device = torch.device(\"cuda\" if torch.cuda.is_available() else \"cpu\")\n",
    "data_dir = \"chest_xray/chest_xray/\"\n",
    "num_epochs = 10\n",
    "batch_size = 4"
   ]
  },
  {
   "cell_type": "code",
   "execution_count": null,
   "metadata": {
    "id": "Y1GC0S-z1RDn"
   },
   "outputs": [],
   "source": [
    "class_names = ['NORMAL', 'PNEUMONIA']"
   ]
  },
  {
   "cell_type": "code",
   "execution_count": null,
   "metadata": {
    "colab": {
     "base_uri": "https://localhost:8080/"
    },
    "id": "KUHsaM1Yq-3d",
    "outputId": "1a6707af-f775-4192-8f98-bd477d369540"
   },
   "outputs": [
    {
     "data": {
      "text/plain": [
       "['NORMAL', 'PNEUMONIA']"
      ]
     },
     "execution_count": 28,
     "metadata": {},
     "output_type": "execute_result"
    }
   ],
   "source": [
    "class_names"
   ]
  },
  {
   "cell_type": "code",
   "execution_count": null,
   "metadata": {
    "colab": {
     "base_uri": "https://localhost:8080/"
    },
    "id": "InmPyJ580f29",
    "outputId": "1044cb58-7843-43f6-9092-61c1b585b4b8"
   },
   "outputs": [
    {
     "data": {
      "text/plain": [
       "0"
      ]
     },
     "execution_count": 29,
     "metadata": {},
     "output_type": "execute_result"
    }
   ],
   "source": [
    "import torch\n",
    "import gc\n",
    "\n",
    "# 1. Delete the prvious model model\n",
    "del model\n",
    "\n",
    "# 2. Empty the cache from CUDA\n",
    "torch.cuda.empty_cache()\n",
    "\n",
    "# 3. Use Python's garbage collector\n",
    "gc.collect()"
   ]
  },
  {
   "cell_type": "code",
   "execution_count": null,
   "metadata": {
    "id": "Ni0D6nDiyw55"
   },
   "outputs": [],
   "source": [
    "model = get_model(device)"
   ]
  },
  {
   "cell_type": "code",
   "execution_count": null,
   "metadata": {
    "colab": {
     "base_uri": "https://localhost:8080/"
    },
    "id": "BaqbTxa0y1Cz",
    "outputId": "a2759e96-48b0-4452-ca68-7d1f73ef7bf0"
   },
   "outputs": [
    {
     "name": "stdout",
     "output_type": "stream",
     "text": [
      "Epoch 1/10, Train Loss: 0.5753, Train Acc: 67.54%, Val Loss: 0.4455, Val Acc: 79.68%\n",
      "Model checkpoint saved at saved_models/best_model.pth\n",
      "Epoch 2/10, Train Loss: 0.4280, Train Acc: 79.37%, Val Loss: 0.4141, Val Acc: 81.20%\n",
      "Model checkpoint saved at saved_models/best_model.pth\n",
      "Epoch 3/10, Train Loss: 0.4024, Train Acc: 81.12%, Val Loss: 0.4008, Val Acc: 82.00%\n",
      "Model checkpoint saved at saved_models/best_model.pth\n",
      "Epoch 4/10, Train Loss: 0.3782, Train Acc: 82.90%, Val Loss: 0.3540, Val Acc: 83.88%\n",
      "Model checkpoint saved at saved_models/best_model.pth\n",
      "Epoch 5/10, Train Loss: 0.3584, Train Acc: 83.86%, Val Loss: 0.3736, Val Acc: 83.94%\n",
      "Epoch 6/10, Train Loss: 0.3486, Train Acc: 84.95%, Val Loss: 0.3352, Val Acc: 84.31%\n",
      "Model checkpoint saved at saved_models/best_model.pth\n",
      "Epoch 7/10, Train Loss: 0.3294, Train Acc: 85.99%, Val Loss: 0.3231, Val Acc: 85.95%\n",
      "Model checkpoint saved at saved_models/best_model.pth\n",
      "Epoch 8/10, Train Loss: 0.3015, Train Acc: 86.85%, Val Loss: 0.3020, Val Acc: 87.35%\n",
      "Model checkpoint saved at saved_models/best_model.pth\n",
      "Epoch 9/10, Train Loss: 0.3096, Train Acc: 86.81%, Val Loss: 0.2901, Val Acc: 87.83%\n",
      "Model checkpoint saved at saved_models/best_model.pth\n"
     ]
    }
   ],
   "source": [
    "model, train_loss, train_acc, val_loss, val_acc = train_model(model, train_loader, val_loader, device, num_epochs)"
   ]
  },
  {
   "cell_type": "code",
   "execution_count": null,
   "metadata": {
    "colab": {
     "base_uri": "https://localhost:8080/",
     "height": 957
    },
    "id": "KgL5z6dK1BJC",
    "outputId": "d380fbd6-375c-463b-c4ef-37f2769dca6b"
   },
   "outputs": [
    {
     "data": {
      "image/png": "[encoded data removed]",
      "text/plain": [
       "<Figure size 1000x500 with 1 Axes>"
      ]
     },
     "metadata": {},
     "output_type": "display_data"
    },
    {
     "data": {
      "image/png": "[encoded data removed]",
      "text/plain": [
       "<Figure size 1000x500 with 1 Axes>"
      ]
     },
     "metadata": {},
     "output_type": "display_data"
    }
   ],
   "source": [
    "# Plot training and validation loss\n",
    "plt.figure(figsize=(10, 5))\n",
    "plt.plot(range(1, num_epochs + 1), train_loss, label=\"Train Loss\")\n",
    "plt.plot(range(1, num_epochs + 1), val_loss, label=\"Validation Loss\")\n",
    "plt.xlabel(\"Epoch\")\n",
    "plt.ylabel(\"Loss\")\n",
    "plt.title(\"Training and Validation Loss\")\n",
    "plt.legend()\n",
    "plt.grid(True)\n",
    "plt.savefig(\"validation_train loss.png\")\n",
    "plt.show()\n",
    "\n",
    "# Plot training and validation accuracy\n",
    "plt.figure(figsize=(10, 5))\n",
    "plt.plot(range(1, num_epochs + 1), train_acc, label=\"Train Accuracy\")\n",
    "plt.plot(range(1, num_epochs + 1), val_acc, label=\"Validation Accuracy\")\n",
    "plt.xlabel(\"Epoch\")\n",
    "plt.ylabel(\"Accuracy\")\n",
    "plt.title(\"Training and Validation Accuracy\")\n",
    "plt.legend()\n",
    "plt.grid(True)\n",
    "plt.savefig(\"validation_train accuracy.png\")\n",
    "plt.show()"
   ]
  },
  {
   "cell_type": "code",
   "execution_count": null,
   "metadata": {
    "colab": {
     "base_uri": "https://localhost:8080/"
    },
    "id": "58dQdi4u1mF-",
    "outputId": "4b8226ed-75ea-4c33-8aca-a1092d1db79b"
   },
   "outputs": [
    {
     "data": {
      "text/plain": [
       "<All keys matched successfully>"
      ]
     },
     "execution_count": 34,
     "metadata": {},
     "output_type": "execute_result"
    }
   ],
   "source": [
    "checkpoint_path = '/content/saved_models/best_model.pth'\n",
    "# Load the best model checkpoint\n",
    "best_model = get_model(device)\n",
    "best_model.load_state_dict(torch.load(checkpoint_path))"
   ]
  },
  {
   "cell_type": "code",
   "execution_count": null,
   "metadata": {
    "colab": {
     "base_uri": "https://localhost:8080/",
     "height": 678
    },
    "id": "4tQWDM4py37r",
    "outputId": "6742f4fb-26d3-401b-af08-b14ae91fe53e"
   },
   "outputs": [
    {
     "name": "stdout",
     "output_type": "stream",
     "text": [
      "Classification Report:\n",
      "              precision    recall  f1-score   support\n",
      "\n",
      "      NORMAL       0.78      0.85      0.81       234\n",
      "   PNEUMONIA       0.91      0.86      0.88       390\n",
      "\n",
      "    accuracy                           0.85       624\n",
      "   macro avg       0.84      0.85      0.85       624\n",
      "weighted avg       0.86      0.85      0.86       624\n",
      "\n"
     ]
    },
    {
     "data": {
      "image/png": "[encoded data removed]",
      "text/plain": [
       "<Figure size 500x500 with 2 Axes>"
      ]
     },
     "metadata": {},
     "output_type": "display_data"
    },
    {
     "name": "stdout",
     "output_type": "stream",
     "text": [
      "Test Accuracy: 85.41666666666667%\n"
     ]
    }
   ],
   "source": [
    "accuracy, true_labels, pred_labels = evaluate_model(best_model, test_loader, device, class_names)\n",
    "print(f'Test Accuracy: {accuracy}%')"
   ]
  },
  {
   "cell_type": "markdown",
   "metadata": {
    "id": "7J994-CHzgtB"
   },
   "source": [
    "# **To run Streamlit App in Colab** Run below cells."
   ]
  },
  {
   "cell_type": "code",
   "execution_count": null,
   "metadata": {
    "colab": {
     "base_uri": "https://localhost:8080/"
    },
    "id": "4uWe9-Txzq4M",
    "outputId": "50bd374c-e7b9-43be-99d7-a44608c62a38"
   },
   "outputs": [
    {
     "name": "stdout",
     "output_type": "stream",
     "text": [
      "\u001b[2K     \u001b[90m━━━━━━━━━━━━━━━━━━━━━━━━━━━━━━━━━━━━━━━━\u001b[0m \u001b[32m7.6/7.6 MB\u001b[0m \u001b[31m21.4 MB/s\u001b[0m eta \u001b[36m0:00:00\u001b[0m\n",
      "\u001b[2K     \u001b[90m━━━━━━━━━━━━━━━━━━━━━━━━━━━━━━━━━━━━━━━━\u001b[0m \u001b[32m190.6/190.6 kB\u001b[0m \u001b[31m14.4 MB/s\u001b[0m eta \u001b[36m0:00:00\u001b[0m\n",
      "\u001b[2K     \u001b[90m━━━━━━━━━━━━━━━━━━━━━━━━━━━━━━━━━━━━━━━━\u001b[0m \u001b[32m4.8/4.8 MB\u001b[0m \u001b[31m36.7 MB/s\u001b[0m eta \u001b[36m0:00:00\u001b[0m\n",
      "\u001b[2K     \u001b[90m━━━━━━━━━━━━━━━━━━━━━━━━━━━━━━━━━━━━━━━━\u001b[0m \u001b[32m82.1/82.1 kB\u001b[0m \u001b[31m8.2 MB/s\u001b[0m eta \u001b[36m0:00:00\u001b[0m\n",
      "\u001b[2K     \u001b[90m━━━━━━━━━━━━━━━━━━━━━━━━━━━━━━━━━━━━━━━━\u001b[0m \u001b[32m62.7/62.7 kB\u001b[0m \u001b[31m5.7 MB/s\u001b[0m eta \u001b[36m0:00:00\u001b[0m\n",
      "\u001b[?25h"
     ]
    }
   ],
   "source": [
    "!pip install -q streamlit"
   ]
  },
  {
   "cell_type": "code",
   "execution_count": null,
   "metadata": {
    "colab": {
     "base_uri": "https://localhost:8080/"
    },
    "id": "gFczzdjqzpIP",
    "outputId": "340afa79-8753-4fa4-f5a6-2ffaa45131f2"
   },
   "outputs": [
    {
     "name": "stdout",
     "output_type": "stream",
     "text": [
      "Overwriting app.py\n"
     ]
    }
   ],
   "source": [
    "%%writefile app.py\n",
    "import streamlit as st\n",
    "import torch\n",
    "from PIL import Image\n",
    "import json\n",
    "import matplotlib.pyplot as plt\n",
    "from torchvision import transforms\n",
    "import torch\n",
    "import torch.nn as nn\n",
    "import torch.optim as optim\n",
    "import torch.nn.functional as F\n",
    "from torch.utils.data import DataLoader, ConcatDataset, random_split, SubsetRandomSampler\n",
    "import torchvision.datasets as datasets\n",
    "import torchvision.transforms as transforms\n",
    "from torchvision.utils import make_grid\n",
    "from sklearn.metrics import classification_report, confusion_matrix\n",
    "import numpy as np\n",
    "import pandas as pd\n",
    "# import other necessary modules\n",
    "\n",
    "def get_model(device):\n",
    "    \"\"\"\n",
    "    Function to get the model.\n",
    "    \"\"\"\n",
    "    class CNN(nn.Module):\n",
    "        def __init__(self):\n",
    "            super(CNN, self).__init__()\n",
    "            self.conv1 = nn.Conv2d(3, 16, 3, padding=1)\n",
    "            self.conv2 = nn.Conv2d(16, 32, 3, padding=1)\n",
    "            self.conv3 = nn.Conv2d(32, 64, 3, padding=1)\n",
    "            self.pool = nn.MaxPool2d(2, 2)\n",
    "            self.fc1 = nn.Linear(64 * 7 * 7, 512)\n",
    "            self.fc2 = nn.Linear(512, 2)\n",
    "            self.dropout = nn.Dropout(0.5)\n",
    "\n",
    "        def forward(self, x):\n",
    "            x = self.pool(F.relu(self.conv1(x)))\n",
    "            x = self.pool(F.relu(self.conv2(x)))\n",
    "            x = self.pool(F.relu(self.conv3(x)))\n",
    "            x = x.view(-1, 64 * 7 * 7)\n",
    "            x = F.relu(self.fc1(x))\n",
    "            x = self.dropout(x)\n",
    "            x = self.fc2(x)\n",
    "            return x\n",
    "\n",
    "    model = CNN().to(device)\n",
    "    return model\n",
    "\n",
    "# Load your trained model\n",
    "def load_model(model_path):\n",
    "    device = torch.device(\"cuda\" if torch.cuda.is_available() else \"cpu\")\n",
    "    model = get_model(device)  # your get_model function\n",
    "    model.load_state_dict(torch.load(model_path, map_location=device))\n",
    "    model.eval()\n",
    "    return model\n",
    "\n",
    "# Function to process an uploaded image\n",
    "def process_image(uploaded_file):\n",
    "    # Open the image file\n",
    "    img = Image.open(uploaded_file)\n",
    "\n",
    "    # Convert grayscale or images with alpha channel to RGB\n",
    "    if img.mode != 'RGB':\n",
    "        img = img.convert('RGB')\n",
    "    # You should load your saved transforms from 'transform_parameters.json'\n",
    "    with open('transform_parameters.json') as f:\n",
    "        transform_parameters = json.load(f)\n",
    "    mean = transform_parameters['mean']\n",
    "    std = transform_parameters['std']\n",
    "    transform = transforms.Compose([\n",
    "        transforms.Resize(size=(56, 56)),\n",
    "        transforms.ToTensor(),\n",
    "        transforms.Normalize(mean=mean, std=std)\n",
    "    ])\n",
    "    return transform(img).unsqueeze(0)  # Add batch dimension\n",
    "\n",
    "# Function to get predictions\n",
    "def predict(model, image):\n",
    "    # Check the device the model is on\n",
    "    device = next(model.parameters()).device\n",
    "    # Move the image tensor to the device the model is on\n",
    "    image = image.to(device)\n",
    "    outputs = model(image)\n",
    "    # Calculate probabilities\n",
    "    probs = torch.nn.functional.softmax(outputs, dim=1)\n",
    "    highest_prob, predicted = torch.max(probs, 1)\n",
    "    return highest_prob, predicted\n",
    "\n",
    "def plot_image(image_path, caption):\n",
    "    \"\"\"\n",
    "    Function to display an image with a caption\n",
    "    \"\"\"\n",
    "    image = Image.open(image_path)\n",
    "    st.image(image, caption=caption, use_column_width=True)\n",
    "\n",
    "def main():\n",
    "    st.title(\"Pneumonia Detection from Chest X-Ray Images\")\n",
    "\n",
    "    # Create a mapping for classes\n",
    "    class_names = {0: 'Normal', 1: 'Pneumonia'}\n",
    "\n",
    "    # Load the model\n",
    "    model = load_model('/content/saved_models/best_model.pth')  # update the path\n",
    "\n",
    "    # Upload image and preprocess it\n",
    "    uploaded_file = st.file_uploader(\"Choose a chest X-ray image...\", type=[\"jpg\", \"png\", \"jpeg\"])\n",
    "    if uploaded_file is not None:\n",
    "        st.image(uploaded_file, caption='Uploaded Chest X-Ray.', use_column_width=True)\n",
    "        if st.button('Predict'):\n",
    "            image = process_image(uploaded_file)\n",
    "            highest_prob, predicted = predict(model, image)\n",
    "            predicted_class = class_names[predicted.item()]\n",
    "            # Use markdown to display results in a larger font\n",
    "            st.markdown(f\"<h2 style='text-align: center; color: red;'>Prediction: {predicted_class}</h2>\", unsafe_allow_html=True)\n",
    "            st.markdown(f\"<h3 style='text-align: center; color: white;'>Probability: {highest_prob.item()*100:.2f}%</h3>\", unsafe_allow_html=True)\n",
    "\n",
    "    # Adding another page in the app for model details\n",
    "    page = st.sidebar.selectbox(\"Choose a page\", [\"Prediction\", \"Model Details\"])\n",
    "\n",
    "    if page == \"Model Details\":\n",
    "        st.header(\"Model Details\")\n",
    "\n",
    "        # Model Introduction\n",
    "        st.subheader(\"Introduction:\")\n",
    "        st.write(\"\"\"\n",
    "        Image Classification is an approach that is being widely utilised for different purposes in the realm of medical imaging and diagnostics. Pneumonia, a potentially life-threatening respiratory infection, poses a significant global health challenge, and rapid and accurate diagnosis is paramount for effective treatment.\n",
    "        \"\"\")\n",
    "\n",
    "        # Dataset details\n",
    "        st.subheader(\"Dataset:\")\n",
    "        st.write(\"\"\"\n",
    "        - The dataset is divided into three folders - 'train', 'test', and 'val', and it contains subfolders for different image categories, specifically 'Pneumonia' and 'Normal'.\n",
    "        - These chest X-ray images were obtained from pediatric patients aged one to five years old.\n",
    "        \"\"\")\n",
    "        st.markdown(\"[Link to the dataset on Kaggle](https://www.kaggle.com/datasets/paultimothymooney/chest-xray-pneumonia/data)\")\n",
    "\n",
    "        # Display the images: Confusion Matrix, Validation-Train Accuracy and Validation-Train Loss\n",
    "        plot_image(\"confusion_matrix.png\", \"Confusion Matrix\")\n",
    "\n",
    "\n",
    "        # Classification Report\n",
    "        st.subheader(\"Classification Report:\")\n",
    "        st.write(\"\"\"\n",
    "        ```\n",
    "        Classification Report:\n",
    "                   precision    recall  f1-score   support\n",
    "              Normal       0.73      0.87      0.79       234\n",
    "           Pneumonia       0.91      0.80      0.85       390\n",
    "            accuracy                           0.83       624\n",
    "           macro avg       0.82      0.84      0.82       624\n",
    "        weighted avg       0.84      0.83      0.83       624\n",
    "        ```\n",
    "        \"\"\")\n",
    "\n",
    "        # Model Architecture\n",
    "        st.subheader(\"Model Architecture:\")\n",
    "        st.write(\"\"\"\n",
    "        The Convolutional Neural Network (CNN) architecture consists of four convolutional layers followed by pooling layers. After the convolutional layers, there are three fully connected layers with a dropout layer in between to prevent overfitting. The model outputs two classes: 'Normal' and 'Pneumonia'. This architecture was trained using a batch size of 64, learning rate of 0.001, and for a total of 12 epochs. The training and validation accuracy achieved is displayed in the provided plots.\n",
    "        \"\"\")\n",
    "        plot_image(\"validation_train accuracy.png\", \"Validation-Train Accuracy\")\n",
    "        plot_image(\"validation_train loss.png\", \"Validation-Train Loss\")\n",
    "\n",
    "# The main entry of the application\n",
    "if __name__ == \"__main__\":\n",
    "    main()"
   ]
  },
  {
   "cell_type": "code",
   "execution_count": null,
   "metadata": {
    "colab": {
     "base_uri": "https://localhost:8080/"
    },
    "id": "mgZAn6D4Y-iw",
    "outputId": "84723e44-96a5-4d33-8350-b5d23d001767"
   },
   "outputs": [
    {
     "name": "stdout",
     "output_type": "stream",
     "text": [
      "\u001b[K\u001b[?25h\u001b[37;40mnpm\u001b[0m \u001b[0m\u001b[30;43mWARN\u001b[0m \u001b[0m\u001b[35msaveError\u001b[0m ENOENT: no such file or directory, open '/content/package.json'\n",
      "\u001b[0m\u001b[37;40mnpm\u001b[0m \u001b[0m\u001b[34;40mnotice\u001b[0m\u001b[35m\u001b[0m created a lockfile as package-lock.json. You should commit this file.\n",
      "\u001b[0m\u001b[37;40mnpm\u001b[0m \u001b[0m\u001b[30;43mWARN\u001b[0m \u001b[0m\u001b[35menoent\u001b[0m ENOENT: no such file or directory, open '/content/package.json'\n",
      "\u001b[0m\u001b[37;40mnpm\u001b[0m \u001b[0m\u001b[30;43mWARN\u001b[0m\u001b[35m\u001b[0m content No description\n",
      "\u001b[0m\u001b[37;40mnpm\u001b[0m \u001b[0m\u001b[30;43mWARN\u001b[0m\u001b[35m\u001b[0m content No repository field.\n",
      "\u001b[0m\u001b[37;40mnpm\u001b[0m \u001b[0m\u001b[30;43mWARN\u001b[0m\u001b[35m\u001b[0m content No README data\n",
      "\u001b[0m\u001b[37;40mnpm\u001b[0m \u001b[0m\u001b[30;43mWARN\u001b[0m\u001b[35m\u001b[0m content No license field.\n",
      "\u001b[0m\n",
      "+ localtunnel@2.0.2\n",
      "added 22 packages from 22 contributors and audited 22 packages in 1.374s\n",
      "\n",
      "3 packages are looking for funding\n",
      "  run `npm fund` for details\n",
      "\n",
      "found \u001b[92m0\u001b[0m vulnerabilities\n",
      "\n",
      "\u001b[K\u001b[?25h"
     ]
    }
   ],
   "source": [
    "!npm install localtunnel"
   ]
  },
  {
   "cell_type": "code",
   "execution_count": null,
   "metadata": {
    "id": "UwXKAhKjZChh"
   },
   "outputs": [],
   "source": [
    "!streamlit run app.py &>/content/logs.txt &"
   ]
  },
  {
   "cell_type": "code",
   "execution_count": null,
   "metadata": {
    "colab": {
     "background_save": true,
     "base_uri": "https://localhost:8080/"
    },
    "id": "QptUKS_WZSwR",
    "outputId": "f908014c-def4-409a-b719-c24ae67737ae"
   },
   "outputs": [
    {
     "name": "stdout",
     "output_type": "stream",
     "text": [
      "34.34.1.14\n",
      "\u001b[K\u001b[?25hnpx: installed 22 in 1.978s\n",
      "your url is: https://dark-trams-count.loca.lt\n"
     ]
    }
   ],
   "source": [
    "!npx localtunnel --port 8501 & curl ipv4.icanhazip.com"
   ]
  },
  {
   "cell_type": "code",
   "execution_count": null,
   "metadata": {
    "id": "8L_CGfwLZ5aT"
   },
   "outputs": [],
   "source": []
  }
 ],
 "metadata": {
  "accelerator": "GPU",
  "colab": {
   "gpuType": "T4",
   "provenance": []
  },
  "kernelspec": {
   "display_name": "Python 3 (ipykernel)",
   "language": "python",
   "name": "python3"
  },
  "language_info": {
   "codemirror_mode": {
    "name": "ipython",
    "version": 3
   },
   "file_extension": ".py",
   "mimetype": "text/x-python",
   "name": "python",
   "nbconvert_exporter": "python",
   "pygments_lexer": "ipython3",
   "version": "3.10.9"
  }
 },
 "nbformat": 4,
 "nbformat_minor": 1
}
