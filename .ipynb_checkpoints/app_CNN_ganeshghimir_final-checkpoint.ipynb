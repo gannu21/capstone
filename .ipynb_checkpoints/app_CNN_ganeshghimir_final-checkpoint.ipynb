{
 "cells": [
  {
   "cell_type": "markdown",
   "metadata": {
    "id": "Q3XfBv4rs-v3"
   },
   "source": [
    "### Chest X-Ray Images (Pneumonia) Detection Using Convolutional Neural Networks with pytorch\n",
    "\n",
    "\n",
    "**Introduction:**\n",
    "\n",
    "Image Classification is an approach that is being widely utilised for different purposes in the realm of medical imaging and diagnostics. Pneumonia, a potentially life-threatening respiratory infection, poses a significant global health challenge, and rapid and accurate diagnosis is paramount for effective treatment. In an era where healthcare technology is advancing at an unprecedented pace, the importance of this method can't be overstated.Convolutional Neural Networks (CNNs) have emerged as a powerful image classification tool in image analysis, which can also be utilised to detect Pneumonia in Chest X-Ray Images which provides the capabilities to healthcare professionals in identifying pneumonia in diverse clinical scenarios, from crowded emergency rooms to remote telemedicine consultations in real-time.\n",
    "\n"
   ]
  },
  {
   "cell_type": "markdown",
   "metadata": {
    "id": "laDIQ5uHtBkI"
   },
   "source": [
    "**Dataset:**\n",
    "\n",
    "- The dataset is divided into three folders - 'train', 'test', and 'val', and it contains subfolders for different image categories, specifically 'Pneumonia' and 'Normal'. There are a total of 5,863 X-Ray images in JPEG format, falling into these two categories.\n",
    "\n",
    "- These chest X-ray images were obtained from pediatric patients aged one to five years old. These images were collected at the Guangzhou Women and Children’s Medical Center in Guangzhou, China, as part of their routine clinical care.\n",
    "\n",
    "- To ensure the quality of the chest X-ray images, they were initially screened to remove any low-quality or unreadable scans. After this, two expert physicians examined and graded the diagnoses before using them to train the AI system. To further ensure accuracy, a third expert checked the evaluation set to account for any grading errors in the diagnoses.\n",
    "\n",
    "Link to the data card on Kaggle: [Chest X-Ray Images (Pneumonia)](https://www.kaggle.com/datasets/paultimothymooney/chest-xray-pneumonia/data)"
   ]
  },
  {
   "cell_type": "markdown",
   "metadata": {
    "id": "4rSgjokLtMMF"
   },
   "source": [
    "Installing and Importing Dependencies"
   ]
  },
  {
   "cell_type": "code",
   "execution_count": 45,
   "metadata": {
    "colab": {
     "base_uri": "https://localhost:8080/"
    },
    "id": "4crY9KYqs_TX",
    "outputId": "5eb3c09c-4975-49fe-9a6d-53836262a3b8"
   },
   "outputs": [
    {
     "name": "stdout",
     "output_type": "stream",
     "text": [
      "Requirement already satisfied: kaggle in /usr/local/lib/python3.10/dist-packages (1.5.16)\n",
      "Requirement already satisfied: torch in /usr/local/lib/python3.10/dist-packages (2.0.1+cu118)\n",
      "Requirement already satisfied: torchvision in /usr/local/lib/python3.10/dist-packages (0.15.2+cu118)\n",
      "Requirement already satisfied: six>=1.10 in /usr/local/lib/python3.10/dist-packages (from kaggle) (1.16.0)\n",
      "Requirement already satisfied: certifi in /usr/local/lib/python3.10/dist-packages (from kaggle) (2023.7.22)\n",
      "Requirement already satisfied: python-dateutil in /usr/local/lib/python3.10/dist-packages (from kaggle) (2.8.2)\n",
      "Requirement already satisfied: requests in /usr/local/lib/python3.10/dist-packages (from kaggle) (2.31.0)\n",
      "Requirement already satisfied: tqdm in /usr/local/lib/python3.10/dist-packages (from kaggle) (4.66.1)\n",
      "Requirement already satisfied: python-slugify in /usr/local/lib/python3.10/dist-packages (from kaggle) (8.0.1)\n",
      "Requirement already satisfied: urllib3 in /usr/local/lib/python3.10/dist-packages (from kaggle) (2.0.6)\n",
      "Requirement already satisfied: bleach in /usr/local/lib/python3.10/dist-packages (from kaggle) (6.1.0)\n",
      "Requirement already satisfied: filelock in /usr/local/lib/python3.10/dist-packages (from torch) (3.12.4)\n",
      "Requirement already satisfied: typing-extensions in /usr/local/lib/python3.10/dist-packages (from torch) (4.5.0)\n",
      "Requirement already satisfied: sympy in /usr/local/lib/python3.10/dist-packages (from torch) (1.12)\n",
      "Requirement already satisfied: networkx in /usr/local/lib/python3.10/dist-packages (from torch) (3.1)\n",
      "Requirement already satisfied: jinja2 in /usr/local/lib/python3.10/dist-packages (from torch) (3.1.2)\n",
      "Requirement already satisfied: triton==2.0.0 in /usr/local/lib/python3.10/dist-packages (from torch) (2.0.0)\n",
      "Requirement already satisfied: cmake in /usr/local/lib/python3.10/dist-packages (from triton==2.0.0->torch) (3.27.7)\n",
      "Requirement already satisfied: lit in /usr/local/lib/python3.10/dist-packages (from triton==2.0.0->torch) (17.0.2)\n",
      "Requirement already satisfied: numpy in /usr/local/lib/python3.10/dist-packages (from torchvision) (1.23.5)\n",
      "Requirement already satisfied: pillow!=8.3.*,>=5.3.0 in /usr/local/lib/python3.10/dist-packages (from torchvision) (9.4.0)\n",
      "Requirement already satisfied: webencodings in /usr/local/lib/python3.10/dist-packages (from bleach->kaggle) (0.5.1)\n",
      "Requirement already satisfied: MarkupSafe>=2.0 in /usr/local/lib/python3.10/dist-packages (from jinja2->torch) (2.1.3)\n",
      "Requirement already satisfied: text-unidecode>=1.3 in /usr/local/lib/python3.10/dist-packages (from python-slugify->kaggle) (1.3)\n",
      "Requirement already satisfied: charset-normalizer<4,>=2 in /usr/local/lib/python3.10/dist-packages (from requests->kaggle) (3.3.0)\n",
      "Requirement already satisfied: idna<4,>=2.5 in /usr/local/lib/python3.10/dist-packages (from requests->kaggle) (3.4)\n",
      "Requirement already satisfied: mpmath>=0.19 in /usr/local/lib/python3.10/dist-packages (from sympy->torch) (1.3.0)\n"
     ]
    }
   ],
   "source": [
    "# !pip install kaggle torch torchvision"
   ]
  },
  {
   "cell_type": "markdown",
   "metadata": {
    "id": "AAuw17-rtOdE"
   },
   "source": [
    "Downloading Data using Kaggle API directly to colab environment."
   ]
  },
  {
   "cell_type": "code",
   "execution_count": 46,
   "metadata": {
    "id": "FDK-zhhItOtE"
   },
   "outputs": [],
   "source": [
    "# # Mount Google Drive to the Colab Notebook (if using Colab)\n",
    "# from google.colab import drive\n",
    "# drive.mount('/content/drive')"
   ]
  },
  {
   "cell_type": "code",
   "execution_count": 47,
   "metadata": {
    "id": "hROyc9iAtQuO"
   },
   "outputs": [],
   "source": [
    "# import os\n",
    "# from google.colab import files\n",
    "# files.upload()  # Upload your Kaggle API key (kaggle.json) here.\n",
    "# !mv kaggle.json /content/drive/MyDrive/kaggle\n",
    "# os.environ['KAGGLE_CONFIG_DIR'] = '/content/drive/MyDrive/kaggle'\n",
    "# !kaggle datasets download -d paultimothymooney/chest-xray-pneumonia\n",
    "# !unzip -q -o chest-xray-pneumonia.zip"
   ]
  },
  {
   "cell_type": "code",
   "execution_count": 2,
   "metadata": {},
   "outputs": [
    {
     "name": "stdout",
     "output_type": "stream",
     "text": [
      "Collecting torchvision\n",
      "  Downloading torchvision-0.16.0-cp310-cp310-macosx_11_0_arm64.whl (1.6 MB)\n",
      "\u001b[2K     \u001b[90m━━━━━━━━━━━━━━━━━━━━━━━━━━━━━━━━━━━━━━━━\u001b[0m \u001b[32m1.6/1.6 MB\u001b[0m \u001b[31m20.9 MB/s\u001b[0m eta \u001b[36m0:00:00\u001b[0m \u001b[36m0:00:01\u001b[0m\n",
      "\u001b[?25hRequirement already satisfied: requests in /Users/ganeshghimire/anaconda3/lib/python3.10/site-packages (from torchvision) (2.28.1)\n",
      "Collecting torch==2.1.0\n",
      "  Downloading torch-2.1.0-cp310-none-macosx_11_0_arm64.whl (59.5 MB)\n",
      "\u001b[2K     \u001b[90m━━━━━━━━━━━━━━━━━━━━━━━━━━━━━━━━━━━━━━━━\u001b[0m \u001b[32m59.5/59.5 MB\u001b[0m \u001b[31m46.3 MB/s\u001b[0m eta \u001b[36m0:00:00\u001b[0m00:01\u001b[0m00:01\u001b[0m\n",
      "\u001b[?25hRequirement already satisfied: pillow!=8.3.*,>=5.3.0 in /Users/ganeshghimire/anaconda3/lib/python3.10/site-packages (from torchvision) (9.4.0)\n",
      "Requirement already satisfied: numpy in /Users/ganeshghimire/anaconda3/lib/python3.10/site-packages (from torchvision) (1.23.5)\n",
      "Requirement already satisfied: typing-extensions in /Users/ganeshghimire/anaconda3/lib/python3.10/site-packages (from torch==2.1.0->torchvision) (4.4.0)\n",
      "Requirement already satisfied: jinja2 in /Users/ganeshghimire/anaconda3/lib/python3.10/site-packages (from torch==2.1.0->torchvision) (3.1.2)\n",
      "Requirement already satisfied: networkx in /Users/ganeshghimire/anaconda3/lib/python3.10/site-packages (from torch==2.1.0->torchvision) (2.8.4)\n",
      "Requirement already satisfied: fsspec in /Users/ganeshghimire/anaconda3/lib/python3.10/site-packages (from torch==2.1.0->torchvision) (2022.11.0)\n",
      "Requirement already satisfied: sympy in /Users/ganeshghimire/anaconda3/lib/python3.10/site-packages (from torch==2.1.0->torchvision) (1.11.1)\n",
      "Requirement already satisfied: filelock in /Users/ganeshghimire/anaconda3/lib/python3.10/site-packages (from torch==2.1.0->torchvision) (3.9.0)\n",
      "Requirement already satisfied: idna<4,>=2.5 in /Users/ganeshghimire/anaconda3/lib/python3.10/site-packages (from requests->torchvision) (3.4)\n",
      "Requirement already satisfied: charset-normalizer<3,>=2 in /Users/ganeshghimire/anaconda3/lib/python3.10/site-packages (from requests->torchvision) (2.0.4)\n",
      "Requirement already satisfied: urllib3<1.27,>=1.21.1 in /Users/ganeshghimire/anaconda3/lib/python3.10/site-packages (from requests->torchvision) (1.26.14)\n",
      "Requirement already satisfied: certifi>=2017.4.17 in /Users/ganeshghimire/anaconda3/lib/python3.10/site-packages (from requests->torchvision) (2022.12.7)\n",
      "Requirement already satisfied: MarkupSafe>=2.0 in /Users/ganeshghimire/anaconda3/lib/python3.10/site-packages (from jinja2->torch==2.1.0->torchvision) (2.1.1)\n",
      "Requirement already satisfied: mpmath>=0.19 in /Users/ganeshghimire/anaconda3/lib/python3.10/site-packages/mpmath-1.2.1-py3.10.egg (from sympy->torch==2.1.0->torchvision) (1.2.1)\n",
      "Installing collected packages: torch, torchvision\n",
      "  Attempting uninstall: torch\n",
      "    Found existing installation: torch 1.12.1\n",
      "    Uninstalling torch-1.12.1:\n",
      "      Successfully uninstalled torch-1.12.1\n",
      "Successfully installed torch-2.1.0 torchvision-0.16.0\n"
     ]
    }
   ],
   "source": [
    "!pip install torchvision\n"
   ]
  },
  {
   "cell_type": "markdown",
   "metadata": {
    "id": "9mYCd4GftV2L"
   },
   "source": [
    "Importing Modules"
   ]
  },
  {
   "cell_type": "code",
   "execution_count": 3,
   "metadata": {
    "id": "tWob300gtXCk"
   },
   "outputs": [
    {
     "name": "stderr",
     "output_type": "stream",
     "text": [
      "/Users/ganeshghimire/anaconda3/lib/python3.10/site-packages/torchvision/io/image.py:13: UserWarning: Failed to load image Python extension: 'dlopen(/Users/ganeshghimire/anaconda3/lib/python3.10/site-packages/torchvision/image.so, 0x0006): Symbol not found: __ZN3c106detail19maybe_wrap_dim_slowIxEET_S2_S2_b\n",
      "  Referenced from: <6DFB383A-E1D9-3EC6-8A60-382AF4E3C226> /Users/ganeshghimire/anaconda3/lib/python3.10/site-packages/torchvision/image.so\n",
      "  Expected in:     <42C20470-F879-3070-BF42-74C7B230A1A1> /Users/ganeshghimire/anaconda3/lib/python3.10/site-packages/torch/lib/libc10.dylib'If you don't plan on using image functionality from `torchvision.io`, you can ignore this warning. Otherwise, there might be something wrong with your environment. Did you have `libjpeg` or `libpng` installed before building `torchvision` from source?\n",
      "  warn(\n"
     ]
    },
    {
     "ename": "ImportError",
     "evalue": "cannot import name '_get_cpp_backtrace' from 'torch._C' (/Users/ganeshghimire/anaconda3/lib/python3.10/site-packages/torch/_C.cpython-310-darwin.so)",
     "output_type": "error",
     "traceback": [
      "\u001b[0;31m---------------------------------------------------------------------------\u001b[0m",
      "\u001b[0;31mImportError\u001b[0m                               Traceback (most recent call last)",
      "Cell \u001b[0;32mIn[3], line 6\u001b[0m\n\u001b[1;32m      4\u001b[0m \u001b[38;5;28;01mimport\u001b[39;00m \u001b[38;5;21;01mtorch\u001b[39;00m\u001b[38;5;21;01m.\u001b[39;00m\u001b[38;5;21;01mnn\u001b[39;00m\u001b[38;5;21;01m.\u001b[39;00m\u001b[38;5;21;01mfunctional\u001b[39;00m \u001b[38;5;28;01mas\u001b[39;00m \u001b[38;5;21;01mF\u001b[39;00m\n\u001b[1;32m      5\u001b[0m \u001b[38;5;28;01mfrom\u001b[39;00m \u001b[38;5;21;01mtorch\u001b[39;00m\u001b[38;5;21;01m.\u001b[39;00m\u001b[38;5;21;01mutils\u001b[39;00m\u001b[38;5;21;01m.\u001b[39;00m\u001b[38;5;21;01mdata\u001b[39;00m \u001b[38;5;28;01mimport\u001b[39;00m DataLoader, ConcatDataset, random_split, SubsetRandomSampler\n\u001b[0;32m----> 6\u001b[0m \u001b[38;5;28;01mimport\u001b[39;00m \u001b[38;5;21;01mtorchvision\u001b[39;00m\u001b[38;5;21;01m.\u001b[39;00m\u001b[38;5;21;01mdatasets\u001b[39;00m \u001b[38;5;28;01mas\u001b[39;00m \u001b[38;5;21;01mdatasets\u001b[39;00m\n\u001b[1;32m      7\u001b[0m \u001b[38;5;28;01mimport\u001b[39;00m \u001b[38;5;21;01mtorchvision\u001b[39;00m\u001b[38;5;21;01m.\u001b[39;00m\u001b[38;5;21;01mtransforms\u001b[39;00m \u001b[38;5;28;01mas\u001b[39;00m \u001b[38;5;21;01mtransforms\u001b[39;00m\n\u001b[1;32m      8\u001b[0m \u001b[38;5;28;01mfrom\u001b[39;00m \u001b[38;5;21;01mtorchvision\u001b[39;00m\u001b[38;5;21;01m.\u001b[39;00m\u001b[38;5;21;01mutils\u001b[39;00m \u001b[38;5;28;01mimport\u001b[39;00m make_grid\n",
      "File \u001b[0;32m~/anaconda3/lib/python3.10/site-packages/torchvision/__init__.py:6\u001b[0m\n\u001b[1;32m      3\u001b[0m \u001b[38;5;28;01mfrom\u001b[39;00m \u001b[38;5;21;01mmodulefinder\u001b[39;00m \u001b[38;5;28;01mimport\u001b[39;00m Module\n\u001b[1;32m      5\u001b[0m \u001b[38;5;28;01mimport\u001b[39;00m \u001b[38;5;21;01mtorch\u001b[39;00m\n\u001b[0;32m----> 6\u001b[0m \u001b[38;5;28;01mfrom\u001b[39;00m \u001b[38;5;21;01mtorchvision\u001b[39;00m \u001b[38;5;28;01mimport\u001b[39;00m _meta_registrations, datasets, io, models, ops, transforms, utils\n\u001b[1;32m      8\u001b[0m \u001b[38;5;28;01mfrom\u001b[39;00m \u001b[38;5;21;01m.\u001b[39;00m\u001b[38;5;21;01mextension\u001b[39;00m \u001b[38;5;28;01mimport\u001b[39;00m _HAS_OPS\n\u001b[1;32m     10\u001b[0m \u001b[38;5;28;01mtry\u001b[39;00m:\n",
      "File \u001b[0;32m~/anaconda3/lib/python3.10/site-packages/torchvision/models/__init__.py:2\u001b[0m\n\u001b[1;32m      1\u001b[0m \u001b[38;5;28;01mfrom\u001b[39;00m \u001b[38;5;21;01m.\u001b[39;00m\u001b[38;5;21;01malexnet\u001b[39;00m \u001b[38;5;28;01mimport\u001b[39;00m \u001b[38;5;241m*\u001b[39m\n\u001b[0;32m----> 2\u001b[0m \u001b[38;5;28;01mfrom\u001b[39;00m \u001b[38;5;21;01m.\u001b[39;00m\u001b[38;5;21;01mconvnext\u001b[39;00m \u001b[38;5;28;01mimport\u001b[39;00m \u001b[38;5;241m*\u001b[39m\n\u001b[1;32m      3\u001b[0m \u001b[38;5;28;01mfrom\u001b[39;00m \u001b[38;5;21;01m.\u001b[39;00m\u001b[38;5;21;01mdensenet\u001b[39;00m \u001b[38;5;28;01mimport\u001b[39;00m \u001b[38;5;241m*\u001b[39m\n\u001b[1;32m      4\u001b[0m \u001b[38;5;28;01mfrom\u001b[39;00m \u001b[38;5;21;01m.\u001b[39;00m\u001b[38;5;21;01mefficientnet\u001b[39;00m \u001b[38;5;28;01mimport\u001b[39;00m \u001b[38;5;241m*\u001b[39m\n",
      "File \u001b[0;32m~/anaconda3/lib/python3.10/site-packages/torchvision/models/convnext.py:8\u001b[0m\n\u001b[1;32m      5\u001b[0m \u001b[38;5;28;01mfrom\u001b[39;00m \u001b[38;5;21;01mtorch\u001b[39;00m \u001b[38;5;28;01mimport\u001b[39;00m nn, Tensor\n\u001b[1;32m      6\u001b[0m \u001b[38;5;28;01mfrom\u001b[39;00m \u001b[38;5;21;01mtorch\u001b[39;00m\u001b[38;5;21;01m.\u001b[39;00m\u001b[38;5;21;01mnn\u001b[39;00m \u001b[38;5;28;01mimport\u001b[39;00m functional \u001b[38;5;28;01mas\u001b[39;00m F\n\u001b[0;32m----> 8\u001b[0m \u001b[38;5;28;01mfrom\u001b[39;00m \u001b[38;5;21;01m.\u001b[39;00m\u001b[38;5;21;01m.\u001b[39;00m\u001b[38;5;21;01mops\u001b[39;00m\u001b[38;5;21;01m.\u001b[39;00m\u001b[38;5;21;01mmisc\u001b[39;00m \u001b[38;5;28;01mimport\u001b[39;00m Conv2dNormActivation, Permute\n\u001b[1;32m      9\u001b[0m \u001b[38;5;28;01mfrom\u001b[39;00m \u001b[38;5;21;01m.\u001b[39;00m\u001b[38;5;21;01m.\u001b[39;00m\u001b[38;5;21;01mops\u001b[39;00m\u001b[38;5;21;01m.\u001b[39;00m\u001b[38;5;21;01mstochastic_depth\u001b[39;00m \u001b[38;5;28;01mimport\u001b[39;00m StochasticDepth\n\u001b[1;32m     10\u001b[0m \u001b[38;5;28;01mfrom\u001b[39;00m \u001b[38;5;21;01m.\u001b[39;00m\u001b[38;5;21;01m.\u001b[39;00m\u001b[38;5;21;01mtransforms\u001b[39;00m\u001b[38;5;21;01m.\u001b[39;00m\u001b[38;5;21;01m_presets\u001b[39;00m \u001b[38;5;28;01mimport\u001b[39;00m ImageClassification\n",
      "File \u001b[0;32m~/anaconda3/lib/python3.10/site-packages/torchvision/ops/__init__.py:1\u001b[0m\n\u001b[0;32m----> 1\u001b[0m \u001b[38;5;28;01mfrom\u001b[39;00m \u001b[38;5;21;01m.\u001b[39;00m\u001b[38;5;21;01m_register_onnx_ops\u001b[39;00m \u001b[38;5;28;01mimport\u001b[39;00m _register_custom_op\n\u001b[1;32m      2\u001b[0m \u001b[38;5;28;01mfrom\u001b[39;00m \u001b[38;5;21;01m.\u001b[39;00m\u001b[38;5;21;01mboxes\u001b[39;00m \u001b[38;5;28;01mimport\u001b[39;00m (\n\u001b[1;32m      3\u001b[0m     batched_nms,\n\u001b[1;32m      4\u001b[0m     box_area,\n\u001b[0;32m   (...)\u001b[0m\n\u001b[1;32m     13\u001b[0m     remove_small_boxes,\n\u001b[1;32m     14\u001b[0m )\n\u001b[1;32m     15\u001b[0m \u001b[38;5;28;01mfrom\u001b[39;00m \u001b[38;5;21;01m.\u001b[39;00m\u001b[38;5;21;01mciou_loss\u001b[39;00m \u001b[38;5;28;01mimport\u001b[39;00m complete_box_iou_loss\n",
      "File \u001b[0;32m~/anaconda3/lib/python3.10/site-packages/torchvision/ops/_register_onnx_ops.py:5\u001b[0m\n\u001b[1;32m      2\u001b[0m \u001b[38;5;28;01mimport\u001b[39;00m \u001b[38;5;21;01mwarnings\u001b[39;00m\n\u001b[1;32m      4\u001b[0m \u001b[38;5;28;01mimport\u001b[39;00m \u001b[38;5;21;01mtorch\u001b[39;00m\n\u001b[0;32m----> 5\u001b[0m \u001b[38;5;28;01mfrom\u001b[39;00m \u001b[38;5;21;01mtorch\u001b[39;00m\u001b[38;5;21;01m.\u001b[39;00m\u001b[38;5;21;01monnx\u001b[39;00m \u001b[38;5;28;01mimport\u001b[39;00m symbolic_opset11 \u001b[38;5;28;01mas\u001b[39;00m opset11\n\u001b[1;32m      6\u001b[0m \u001b[38;5;28;01mfrom\u001b[39;00m \u001b[38;5;21;01mtorch\u001b[39;00m\u001b[38;5;21;01m.\u001b[39;00m\u001b[38;5;21;01monnx\u001b[39;00m\u001b[38;5;21;01m.\u001b[39;00m\u001b[38;5;21;01msymbolic_helper\u001b[39;00m \u001b[38;5;28;01mimport\u001b[39;00m parse_args\n\u001b[1;32m      8\u001b[0m _ONNX_OPSET_VERSION_11 \u001b[38;5;241m=\u001b[39m \u001b[38;5;241m11\u001b[39m\n",
      "File \u001b[0;32m~/anaconda3/lib/python3.10/site-packages/torch/onnx/symbolic_opset11.py:12\u001b[0m\n\u001b[1;32m     10\u001b[0m \u001b[38;5;28;01mfrom\u001b[39;00m \u001b[38;5;21;01mtorch\u001b[39;00m \u001b[38;5;28;01mimport\u001b[39;00m _C\n\u001b[1;32m     11\u001b[0m \u001b[38;5;28;01mfrom\u001b[39;00m \u001b[38;5;21;01mtorch\u001b[39;00m\u001b[38;5;21;01m.\u001b[39;00m\u001b[38;5;21;01m_C\u001b[39;00m \u001b[38;5;28;01mimport\u001b[39;00m _onnx \u001b[38;5;28;01mas\u001b[39;00m _C_onnx\n\u001b[0;32m---> 12\u001b[0m \u001b[38;5;28;01mfrom\u001b[39;00m \u001b[38;5;21;01mtorch\u001b[39;00m\u001b[38;5;21;01m.\u001b[39;00m\u001b[38;5;21;01monnx\u001b[39;00m \u001b[38;5;28;01mimport\u001b[39;00m (\n\u001b[1;32m     13\u001b[0m     _type_utils,\n\u001b[1;32m     14\u001b[0m     errors,\n\u001b[1;32m     15\u001b[0m     symbolic_helper,\n\u001b[1;32m     16\u001b[0m     symbolic_opset10 \u001b[38;5;28;01mas\u001b[39;00m opset10,\n\u001b[1;32m     17\u001b[0m     symbolic_opset9 \u001b[38;5;28;01mas\u001b[39;00m opset9,\n\u001b[1;32m     18\u001b[0m     utils,\n\u001b[1;32m     19\u001b[0m )\n\u001b[1;32m     20\u001b[0m \u001b[38;5;28;01mfrom\u001b[39;00m \u001b[38;5;21;01mtorch\u001b[39;00m\u001b[38;5;21;01m.\u001b[39;00m\u001b[38;5;21;01monnx\u001b[39;00m\u001b[38;5;21;01m.\u001b[39;00m\u001b[38;5;21;01m_globals\u001b[39;00m \u001b[38;5;28;01mimport\u001b[39;00m GLOBALS\n\u001b[1;32m     21\u001b[0m \u001b[38;5;28;01mfrom\u001b[39;00m \u001b[38;5;21;01mtorch\u001b[39;00m\u001b[38;5;21;01m.\u001b[39;00m\u001b[38;5;21;01monnx\u001b[39;00m\u001b[38;5;21;01m.\u001b[39;00m\u001b[38;5;21;01m_internal\u001b[39;00m \u001b[38;5;28;01mimport\u001b[39;00m _beartype, jit_utils, registration\n",
      "File \u001b[0;32m~/anaconda3/lib/python3.10/site-packages/torch/onnx/_type_utils.py:10\u001b[0m\n\u001b[1;32m      8\u001b[0m \u001b[38;5;28;01mimport\u001b[39;00m \u001b[38;5;21;01mtorch\u001b[39;00m\n\u001b[1;32m      9\u001b[0m \u001b[38;5;28;01mfrom\u001b[39;00m \u001b[38;5;21;01mtorch\u001b[39;00m\u001b[38;5;21;01m.\u001b[39;00m\u001b[38;5;21;01m_C\u001b[39;00m \u001b[38;5;28;01mimport\u001b[39;00m _onnx \u001b[38;5;28;01mas\u001b[39;00m _C_onnx\n\u001b[0;32m---> 10\u001b[0m \u001b[38;5;28;01mfrom\u001b[39;00m \u001b[38;5;21;01mtorch\u001b[39;00m\u001b[38;5;21;01m.\u001b[39;00m\u001b[38;5;21;01monnx\u001b[39;00m \u001b[38;5;28;01mimport\u001b[39;00m errors\n\u001b[1;32m     11\u001b[0m \u001b[38;5;28;01mfrom\u001b[39;00m \u001b[38;5;21;01mtorch\u001b[39;00m\u001b[38;5;21;01m.\u001b[39;00m\u001b[38;5;21;01monnx\u001b[39;00m\u001b[38;5;21;01m.\u001b[39;00m\u001b[38;5;21;01m_internal\u001b[39;00m \u001b[38;5;28;01mimport\u001b[39;00m _beartype\n\u001b[1;32m     13\u001b[0m \u001b[38;5;28;01mif\u001b[39;00m typing\u001b[38;5;241m.\u001b[39mTYPE_CHECKING:\n\u001b[1;32m     14\u001b[0m     \u001b[38;5;66;03m# Hack to help mypy to recognize torch._C.Value\u001b[39;00m\n",
      "File \u001b[0;32m~/anaconda3/lib/python3.10/site-packages/torch/onnx/errors.py:9\u001b[0m\n\u001b[1;32m      7\u001b[0m \u001b[38;5;28;01mfrom\u001b[39;00m \u001b[38;5;21;01mtorch\u001b[39;00m \u001b[38;5;28;01mimport\u001b[39;00m _C\n\u001b[1;32m      8\u001b[0m \u001b[38;5;28;01mfrom\u001b[39;00m \u001b[38;5;21;01mtorch\u001b[39;00m\u001b[38;5;21;01m.\u001b[39;00m\u001b[38;5;21;01monnx\u001b[39;00m \u001b[38;5;28;01mimport\u001b[39;00m _constants\n\u001b[0;32m----> 9\u001b[0m \u001b[38;5;28;01mfrom\u001b[39;00m \u001b[38;5;21;01mtorch\u001b[39;00m\u001b[38;5;21;01m.\u001b[39;00m\u001b[38;5;21;01monnx\u001b[39;00m\u001b[38;5;21;01m.\u001b[39;00m\u001b[38;5;21;01m_internal\u001b[39;00m \u001b[38;5;28;01mimport\u001b[39;00m diagnostics\n\u001b[1;32m     11\u001b[0m __all__ \u001b[38;5;241m=\u001b[39m [\n\u001b[1;32m     12\u001b[0m     \u001b[38;5;124m\"\u001b[39m\u001b[38;5;124mOnnxExporterError\u001b[39m\u001b[38;5;124m\"\u001b[39m,\n\u001b[1;32m     13\u001b[0m     \u001b[38;5;124m\"\u001b[39m\u001b[38;5;124mOnnxExporterWarning\u001b[39m\u001b[38;5;124m\"\u001b[39m,\n\u001b[0;32m   (...)\u001b[0m\n\u001b[1;32m     16\u001b[0m     \u001b[38;5;124m\"\u001b[39m\u001b[38;5;124mSymbolicValueError\u001b[39m\u001b[38;5;124m\"\u001b[39m,\n\u001b[1;32m     17\u001b[0m ]\n\u001b[1;32m     20\u001b[0m \u001b[38;5;28;01mclass\u001b[39;00m \u001b[38;5;21;01mOnnxExporterWarning\u001b[39;00m(\u001b[38;5;167;01mUserWarning\u001b[39;00m):\n",
      "File \u001b[0;32m~/anaconda3/lib/python3.10/site-packages/torch/onnx/_internal/diagnostics/__init__.py:1\u001b[0m\n\u001b[0;32m----> 1\u001b[0m \u001b[38;5;28;01mfrom\u001b[39;00m \u001b[38;5;21;01m.\u001b[39;00m\u001b[38;5;21;01m_diagnostic\u001b[39;00m \u001b[38;5;28;01mimport\u001b[39;00m (\n\u001b[1;32m      2\u001b[0m     create_export_diagnostic_context,\n\u001b[1;32m      3\u001b[0m     diagnose,\n\u001b[1;32m      4\u001b[0m     engine,\n\u001b[1;32m      5\u001b[0m     export_context,\n\u001b[1;32m      6\u001b[0m     ExportDiagnosticEngine,\n\u001b[1;32m      7\u001b[0m     TorchScriptOnnxExportDiagnostic,\n\u001b[1;32m      8\u001b[0m )\n\u001b[1;32m      9\u001b[0m \u001b[38;5;28;01mfrom\u001b[39;00m \u001b[38;5;21;01m.\u001b[39;00m\u001b[38;5;21;01m_rules\u001b[39;00m \u001b[38;5;28;01mimport\u001b[39;00m rules\n\u001b[1;32m     10\u001b[0m \u001b[38;5;28;01mfrom\u001b[39;00m \u001b[38;5;21;01m.\u001b[39;00m\u001b[38;5;21;01minfra\u001b[39;00m \u001b[38;5;28;01mimport\u001b[39;00m levels\n",
      "File \u001b[0;32m~/anaconda3/lib/python3.10/site-packages/torch/onnx/_internal/diagnostics/_diagnostic.py:14\u001b[0m\n\u001b[1;32m     12\u001b[0m \u001b[38;5;28;01mfrom\u001b[39;00m \u001b[38;5;21;01mtorch\u001b[39;00m\u001b[38;5;21;01m.\u001b[39;00m\u001b[38;5;21;01monnx\u001b[39;00m\u001b[38;5;21;01m.\u001b[39;00m\u001b[38;5;21;01m_internal\u001b[39;00m\u001b[38;5;21;01m.\u001b[39;00m\u001b[38;5;21;01mdiagnostics\u001b[39;00m\u001b[38;5;21;01m.\u001b[39;00m\u001b[38;5;21;01minfra\u001b[39;00m \u001b[38;5;28;01mimport\u001b[39;00m formatter, sarif\n\u001b[1;32m     13\u001b[0m \u001b[38;5;28;01mfrom\u001b[39;00m \u001b[38;5;21;01mtorch\u001b[39;00m\u001b[38;5;21;01m.\u001b[39;00m\u001b[38;5;21;01monnx\u001b[39;00m\u001b[38;5;21;01m.\u001b[39;00m\u001b[38;5;21;01m_internal\u001b[39;00m\u001b[38;5;21;01m.\u001b[39;00m\u001b[38;5;21;01mdiagnostics\u001b[39;00m\u001b[38;5;21;01m.\u001b[39;00m\u001b[38;5;21;01minfra\u001b[39;00m\u001b[38;5;21;01m.\u001b[39;00m\u001b[38;5;21;01msarif\u001b[39;00m \u001b[38;5;28;01mimport\u001b[39;00m version \u001b[38;5;28;01mas\u001b[39;00m sarif_version\n\u001b[0;32m---> 14\u001b[0m \u001b[38;5;28;01mfrom\u001b[39;00m \u001b[38;5;21;01mtorch\u001b[39;00m\u001b[38;5;21;01m.\u001b[39;00m\u001b[38;5;21;01mutils\u001b[39;00m \u001b[38;5;28;01mimport\u001b[39;00m cpp_backtrace\n\u001b[1;32m     17\u001b[0m \u001b[38;5;28;01mdef\u001b[39;00m \u001b[38;5;21m_cpp_call_stack\u001b[39m(frames_to_skip: \u001b[38;5;28mint\u001b[39m \u001b[38;5;241m=\u001b[39m \u001b[38;5;241m0\u001b[39m, frames_to_log: \u001b[38;5;28mint\u001b[39m \u001b[38;5;241m=\u001b[39m \u001b[38;5;241m32\u001b[39m) \u001b[38;5;241m-\u001b[39m\u001b[38;5;241m>\u001b[39m infra\u001b[38;5;241m.\u001b[39mStack:\n\u001b[1;32m     18\u001b[0m     \u001b[38;5;124;03m\"\"\"Returns the current C++ call stack.\u001b[39;00m\n\u001b[1;32m     19\u001b[0m \n\u001b[1;32m     20\u001b[0m \u001b[38;5;124;03m    This function utilizes `torch.utils.cpp_backtrace` to get the current C++ call stack.\u001b[39;00m\n\u001b[0;32m   (...)\u001b[0m\n\u001b[1;32m     24\u001b[0m \n\u001b[1;32m     25\u001b[0m \u001b[38;5;124;03m    \"\"\"\u001b[39;00m\n",
      "File \u001b[0;32m~/anaconda3/lib/python3.10/site-packages/torch/utils/cpp_backtrace.py:1\u001b[0m\n\u001b[0;32m----> 1\u001b[0m \u001b[38;5;28;01mfrom\u001b[39;00m \u001b[38;5;21;01mtorch\u001b[39;00m\u001b[38;5;21;01m.\u001b[39;00m\u001b[38;5;21;01m_C\u001b[39;00m \u001b[38;5;28;01mimport\u001b[39;00m _get_cpp_backtrace\n\u001b[1;32m      3\u001b[0m \u001b[38;5;28;01mdef\u001b[39;00m \u001b[38;5;21mget_cpp_backtrace\u001b[39m(frames_to_skip\u001b[38;5;241m=\u001b[39m\u001b[38;5;241m0\u001b[39m, maximum_number_of_frames\u001b[38;5;241m=\u001b[39m\u001b[38;5;241m64\u001b[39m) \u001b[38;5;241m-\u001b[39m\u001b[38;5;241m>\u001b[39m \u001b[38;5;28mstr\u001b[39m:\n\u001b[1;32m      4\u001b[0m     \u001b[38;5;124mr\u001b[39m\u001b[38;5;124;03m\"\"\"\u001b[39;00m\n\u001b[1;32m      5\u001b[0m \u001b[38;5;124;03m    Returns a string containing the C++ stack trace of the current thread.\u001b[39;00m\n\u001b[1;32m      6\u001b[0m \u001b[38;5;124;03m    Args:\u001b[39;00m\n\u001b[1;32m      7\u001b[0m \u001b[38;5;124;03m        frames_to_skip (int): the number of frames to skip from the top of the stack\u001b[39;00m\n\u001b[1;32m      8\u001b[0m \u001b[38;5;124;03m        maximum_number_of_frames (int): the maximum number of frames to return\u001b[39;00m\n\u001b[1;32m      9\u001b[0m \u001b[38;5;124;03m    \"\"\"\u001b[39;00m\n",
      "\u001b[0;31mImportError\u001b[0m: cannot import name '_get_cpp_backtrace' from 'torch._C' (/Users/ganeshghimire/anaconda3/lib/python3.10/site-packages/torch/_C.cpython-310-darwin.so)"
     ]
    }
   ],
   "source": [
    "import torch\n",
    "import torch.nn as nn\n",
    "import torch.optim as optim\n",
    "import torch.nn.functional as F\n",
    "from torch.utils.data import DataLoader, ConcatDataset, random_split, SubsetRandomSampler\n",
    "import torchvision.datasets as datasets\n",
    "import torchvision.transforms as transforms\n",
    "from torchvision.utils import make_grid\n",
    "from sklearn.metrics import classification_report, confusion_matrix\n",
    "import numpy as np\n",
    "import pandas as pd\n",
    "\n",
    "from PIL import Image\n",
    "import matplotlib.pyplot as plt\n",
    "import seaborn as sns\n",
    "\n",
    "import os\n",
    "import json\n",
    "import gc\n",
    "import pathlib\n"
   ]
  },
  {
   "cell_type": "code",
   "execution_count": 49,
   "metadata": {
    "id": "gNgCtoCttwID"
   },
   "outputs": [],
   "source": [
    "def calculate_transforms(data_dir):\n",
    "    # Modify this line to ensure the dataset's transform converts images to tensors\n",
    "    train_dataset = datasets.ImageFolder(data_dir+\"train/\", transform=transforms.ToTensor())\n",
    "    first_train_image, _ = train_dataset[0]\n",
    "\n",
    "    # Make sure first_train_image is a tensor before calling unsqueeze\n",
    "    if isinstance(first_train_image, Image.Image):\n",
    "        first_train_image = transforms.ToTensor()(first_train_image)\n",
    "\n",
    "    first_train_image = first_train_image.unsqueeze(0)  # Add batch dimension\n",
    "    grid_image = make_grid(first_train_image, normalize=True)  # Create a grid to get a single image\n",
    "\n",
    "    # Compute mean and std for the first test image\n",
    "    mean = grid_image.mean(dim=[1,2])\n",
    "    std = grid_image.std(dim=[1,2])\n",
    "\n",
    "    data_transforms = {\n",
    "        'train': transforms.Compose([\n",
    "            transforms.RandomRotation(15),\n",
    "            transforms.RandomResizedCrop(56),\n",
    "            transforms.RandomHorizontalFlip(),\n",
    "            transforms.RandomAffine(0, translate=(0.1, 0.1)),\n",
    "            transforms.ToTensor(),\n",
    "            transforms.Normalize(mean.tolist(), std.tolist())\n",
    "        ]),\n",
    "        'val': transforms.Compose([\n",
    "            transforms.Resize(size=(56, 56)),\n",
    "            transforms.ToTensor(),\n",
    "            transforms.Normalize(mean.tolist(), std.tolist())\n",
    "        ]),\n",
    "    }\n",
    "\n",
    "    # Save the transform parameters to a json file for future use\n",
    "    transform_parameters = {\"mean\": mean.tolist(), \"std\": std.tolist()}\n",
    "    with open('transform_parameters.json', 'w') as f:\n",
    "        json.dump(transform_parameters, f)\n",
    "\n",
    "    return data_transforms\n",
    "\n",
    "\n",
    "def get_data_loaders(data_dir: str, data_transforms: dict, batch_size: int = 64):\n",
    "    # Loading the datasets with transformations\n",
    "    train_dataset = datasets.ImageFolder(data_dir+\"train/\", transform=data_transforms['train'])\n",
    "    test_dataset = datasets.ImageFolder(data_dir+\"test/\", transform=data_transforms['val'])\n",
    "    val_dataset = datasets.ImageFolder(data_dir+\"val/\", transform=data_transforms['val'])\n",
    "\n",
    "    # Data loaders\n",
    "    train_loader = DataLoader(train_dataset, batch_size=batch_size, shuffle=True)\n",
    "    test_loader = DataLoader(test_dataset, batch_size=batch_size, shuffle=True)\n",
    "    val_loader = DataLoader(val_dataset, batch_size=batch_size, shuffle=True)\n",
    "\n",
    "    return train_dataset, test_dataset, val_dataset, train_loader, test_loader, val_loader"
   ]
  },
  {
   "cell_type": "code",
   "execution_count": 50,
   "metadata": {
    "id": "imAr8rsXwWJM"
   },
   "outputs": [],
   "source": [
    "data_dir = \"/content/chest_xray/chest_xray/\"\n",
    "data_transforms = calculate_transforms(data_dir)\n",
    "train_dataset, test_dataset, val_dataset, train_loader, test_loader, val_loader = get_data_loaders(data_dir, data_transforms)"
   ]
  },
  {
   "cell_type": "code",
   "execution_count": 51,
   "metadata": {
    "id": "LFvEu7sFuROR"
   },
   "outputs": [],
   "source": [
    "from torch.utils.data import DataLoader, ConcatDataset, random_split\n",
    "\n",
    "# Identify the minority class\n",
    "class_counts = {}\n",
    "for _, label in train_dataset:\n",
    "    if label in class_counts:\n",
    "        class_counts[label] += 1\n",
    "    else:\n",
    "        class_counts[label] = 1\n",
    "\n",
    "# Find the class that has the maximum count\n",
    "max_count = max(class_counts.values())\n",
    "\n",
    "# Oversample the minority class\n",
    "datasets_list = [train_dataset]\n",
    "for label, count in class_counts.items():\n",
    "    if count < max_count:\n",
    "        diff = max_count - count\n",
    "        # Filter out the samples belonging to current class\n",
    "        minority_samples = [sample for sample in train_dataset if sample[1] == label]\n",
    "        # Repeat the samples until we reach the desired count\n",
    "        oversampled_data = minority_samples * (diff // count) + minority_samples[:diff % count]\n",
    "        datasets_list.append(oversampled_data)\n",
    "\n",
    "# Concatenate the original dataset with the oversampled data\n",
    "balanced_dataset = ConcatDataset(datasets_list)\n",
    "\n",
    "# Shuffle the dataset\n",
    "train_size = len(balanced_dataset)\n",
    "train_indices = list(range(train_size))\n",
    "np.random.shuffle(train_indices)\n",
    "\n",
    "# Create a DataLoader using the shuffled indices\n",
    "train_loader = DataLoader(balanced_dataset, batch_size=64, sampler=torch.utils.data.SubsetRandomSampler(train_indices))\n"
   ]
  },
  {
   "cell_type": "code",
   "execution_count": null,
   "metadata": {
    "id": "72JqifpWyobi"
   },
   "outputs": [],
   "source": [
    "def get_model(device):\n",
    "    \"\"\"\n",
    "    Function to get the model.\n",
    "    \"\"\"\n",
    "    class CNN(nn.Module):\n",
    "        def __init__(self):\n",
    "            super(CNN, self).__init__()\n",
    "            self.conv1 = nn.Conv2d(3, 16, 3, padding=1)\n",
    "            self.conv2 = nn.Conv2d(16, 32, 3, padding=1)\n",
    "            self.conv3 = nn.Conv2d(32, 64, 3, padding=1)\n",
    "            self.pool = nn.MaxPool2d(2, 2)\n",
    "            self.fc1 = nn.Linear(64 * 7 * 7, 512)\n",
    "            self.fc2 = nn.Linear(512, 2)\n",
    "            self.dropout = nn.Dropout(0.5)\n",
    "\n",
    "        def forward(self, x):\n",
    "            x = self.pool(F.relu(self.conv1(x)))\n",
    "            x = self.pool(F.relu(self.conv2(x)))\n",
    "            x = self.pool(F.relu(self.conv3(x)))\n",
    "            x = x.view(-1, 64 * 7 * 7)\n",
    "            x = F.relu(self.fc1(x))\n",
    "            x = self.dropout(x)\n",
    "            x = self.fc2(x)\n",
    "            return x\n",
    "\n",
    "    model = CNN().to(device)\n",
    "    return model"
   ]
  },
  {
   "cell_type": "code",
   "execution_count": 54,
   "metadata": {
    "id": "mfsl1W_-ynAA"
   },
   "outputs": [],
   "source": [
    "\n",
    "def train_model(model, train_loader, val_loader, device, num_epochs=10, learning_rate=0.001):\n",
    "    \"\"\"\n",
    "    Function to train the model.\n",
    "    \"\"\"\n",
    "    criterion = nn.CrossEntropyLoss()\n",
    "    optimizer = optim.Adam(model.parameters(), lr=learning_rate)\n",
    "\n",
    "    best_val_loss = float(\"inf\")\n",
    "    train_loss_history, val_loss_history = [], []\n",
    "    train_accuracy_history, val_accuracy_history = [], []\n",
    "\n",
    "    for epoch in range(num_epochs):\n",
    "        # Training\n",
    "        model.train()\n",
    "        running_loss, correct, total = 0.0, 0, 0\n",
    "        for inputs, labels in train_loader:\n",
    "            inputs, labels = inputs.to(device), labels.to(device)\n",
    "\n",
    "            optimizer.zero_grad()\n",
    "            outputs = model(inputs)\n",
    "            loss = criterion(outputs, labels)\n",
    "            loss.backward()\n",
    "            optimizer.step()\n",
    "\n",
    "            running_loss += loss.item()\n",
    "            _, predicted = torch.max(outputs.data, 1)\n",
    "            total += labels.size(0)\n",
    "            correct += (predicted == labels).sum().item()\n",
    "\n",
    "        train_accuracy = 100 * correct / total\n",
    "        train_loss = running_loss / len(train_loader)\n",
    "        train_loss_history.append(train_loss)\n",
    "        train_accuracy_history.append(train_accuracy)\n",
    "\n",
    "        # Validation\n",
    "        model.eval()\n",
    "        running_loss, correct, total = 0.0, 0, 0\n",
    "        with torch.no_grad():\n",
    "            for inputs, labels in val_loader:\n",
    "                inputs, labels = inputs.to(device), labels.to(device)\n",
    "\n",
    "                outputs = model(inputs)\n",
    "                loss = criterion(outputs, labels)\n",
    "\n",
    "                running_loss += loss.item()\n",
    "                _, predicted = torch.max(outputs.data, 1)\n",
    "                total += labels.size(0)\n",
    "                correct += (predicted == labels).sum().item()\n",
    "\n",
    "        val_accuracy = 100 * correct / total\n",
    "        val_loss = running_loss / len(val_loader)\n",
    "        val_loss_history.append(val_loss)\n",
    "        val_accuracy_history.append(val_accuracy)\n",
    "\n",
    "        print(f'Epoch {epoch+1}/{num_epochs}, '\n",
    "              f'Train Loss: {train_loss:.4f}, Train Acc: {train_accuracy:.2f}%, '\n",
    "              f'Val Loss: {val_loss:.4f}, Val Acc: {val_accuracy:.2f}%')\n",
    "\n",
    "        # Create a directory if not exists\n",
    "        saved_models_dir = 'saved_models'\n",
    "        if not os.path.exists(saved_models_dir):\n",
    "            os.makedirs(saved_models_dir)\n",
    "\n",
    "        # Save the model if it has the best validation loss so far\n",
    "        if val_loss < best_val_loss:\n",
    "            best_val_loss = val_loss\n",
    "            best_model_path = os.path.join(saved_models_dir, 'best_model.pth')\n",
    "            torch.save(model.state_dict(), best_model_path)\n",
    "            print('Model checkpoint saved at {}'.format(best_model_path))\n",
    "\n",
    "    return model, train_loss_history, train_accuracy_history, val_loss_history, val_accuracy_history\n"
   ]
  },
  {
   "cell_type": "code",
   "execution_count": 55,
   "metadata": {
    "id": "QowUfBicynP-"
   },
   "outputs": [],
   "source": [
    "def evaluate_model(model, test_loader, device, class_names):\n",
    "    \"\"\"\n",
    "    Function to evaluate the model.\n",
    "    \"\"\"\n",
    "    model.eval()\n",
    "    correct, total = 0, 0\n",
    "    true_labels, pred_labels = [], []\n",
    "\n",
    "    with torch.no_grad():\n",
    "        for inputs, labels in test_loader:\n",
    "            inputs, labels = inputs.to(device), labels.to(device)\n",
    "            outputs = model(inputs)\n",
    "            _, predicted = torch.max(outputs.data, 1)\n",
    "            total += labels.size(0)\n",
    "            correct += (predicted == labels).sum().item()\n",
    "\n",
    "            true_labels.extend(labels.cpu().numpy())\n",
    "            pred_labels.extend(predicted.cpu().numpy())\n",
    "\n",
    "    accuracy = 100 * correct / total\n",
    "\n",
    "    # Classification report\n",
    "    print('Classification Report:')\n",
    "    print(classification_report(true_labels, pred_labels, target_names=class_names))\n",
    "\n",
    "    # Confusion matrix\n",
    "    conf_matrix = confusion_matrix(true_labels, pred_labels)\n",
    "    df_cm = pd.DataFrame(conf_matrix, index=class_names, columns=class_names)\n",
    "    plt.figure(figsize=(5,5))\n",
    "    sns.heatmap(df_cm, annot=True, fmt=\"d\", cmap='Blues')\n",
    "    plt.title('Confusion Matrix')\n",
    "    plt.xlabel('Predicted')\n",
    "    plt.ylabel('True')\n",
    "    plt.savefig(\"confusion_matrix.png\")\n",
    "    plt.show()\n",
    "\n",
    "    return accuracy, true_labels, pred_labels"
   ]
  },
  {
   "cell_type": "code",
   "execution_count": 56,
   "metadata": {
    "id": "vBLC2Z2zyr7K"
   },
   "outputs": [],
   "source": [
    "device = torch.device(\"cuda\" if torch.cuda.is_available() else \"cpu\")\n",
    "data_dir = \"chest_xray/chest_xray/\"\n",
    "num_epochs = 12\n",
    "batch_size = 64"
   ]
  },
  {
   "cell_type": "code",
   "execution_count": 57,
   "metadata": {
    "id": "Y1GC0S-z1RDn"
   },
   "outputs": [],
   "source": [
    "class_names = train_dataset.classes"
   ]
  },
  {
   "cell_type": "code",
   "execution_count": 58,
   "metadata": {
    "colab": {
     "base_uri": "https://localhost:8080/"
    },
    "id": "InmPyJ580f29",
    "outputId": "b287a7d5-0e84-4096-c6dc-cc4939554d24"
   },
   "outputs": [
    {
     "data": {
      "text/plain": [
       "9175"
      ]
     },
     "execution_count": 58,
     "metadata": {},
     "output_type": "execute_result"
    }
   ],
   "source": [
    "import torch\n",
    "import gc\n",
    "\n",
    "# 1. Delete the prvious model model\n",
    "del model\n",
    "\n",
    "# 2. Empty the cache from CUDA\n",
    "torch.cuda.empty_cache()\n",
    "\n",
    "# 3. Use Python's garbage collector\n",
    "gc.collect()"
   ]
  },
  {
   "cell_type": "code",
   "execution_count": 59,
   "metadata": {
    "id": "Ni0D6nDiyw55"
   },
   "outputs": [],
   "source": [
    "model = get_model(device)"
   ]
  },
  {
   "cell_type": "code",
   "execution_count": 60,
   "metadata": {
    "colab": {
     "base_uri": "https://localhost:8080/"
    },
    "id": "BaqbTxa0y1Cz",
    "outputId": "c6320b61-4775-4b55-b372-9a2ed2089b87"
   },
   "outputs": [
    {
     "name": "stdout",
     "output_type": "stream",
     "text": [
      "Epoch 1/12, Train Loss: 0.5257, Train Acc: 73.99%, Val Loss: 0.5326, Val Acc: 68.75%\n",
      "Model checkpoint saved at saved_models/best_model.pth\n",
      "Epoch 2/12, Train Loss: 0.4246, Train Acc: 81.35%, Val Loss: 0.5312, Val Acc: 68.75%\n",
      "Model checkpoint saved at saved_models/best_model.pth\n",
      "Epoch 3/12, Train Loss: 0.3759, Train Acc: 84.26%, Val Loss: 0.5691, Val Acc: 68.75%\n",
      "Epoch 4/12, Train Loss: 0.3665, Train Acc: 84.65%, Val Loss: 0.5599, Val Acc: 75.00%\n",
      "Epoch 5/12, Train Loss: 0.3352, Train Acc: 86.22%, Val Loss: 0.5915, Val Acc: 75.00%\n",
      "Epoch 6/12, Train Loss: 0.3002, Train Acc: 88.32%, Val Loss: 0.4802, Val Acc: 75.00%\n",
      "Model checkpoint saved at saved_models/best_model.pth\n",
      "Epoch 7/12, Train Loss: 0.2890, Train Acc: 88.39%, Val Loss: 0.5757, Val Acc: 62.50%\n",
      "Epoch 8/12, Train Loss: 0.2742, Train Acc: 88.93%, Val Loss: 1.5200, Val Acc: 62.50%\n",
      "Epoch 9/12, Train Loss: 0.2729, Train Acc: 89.32%, Val Loss: 0.6411, Val Acc: 68.75%\n",
      "Epoch 10/12, Train Loss: 0.2533, Train Acc: 90.18%, Val Loss: 0.7747, Val Acc: 68.75%\n",
      "Epoch 11/12, Train Loss: 0.2490, Train Acc: 89.91%, Val Loss: 0.6180, Val Acc: 68.75%\n",
      "Epoch 12/12, Train Loss: 0.2301, Train Acc: 91.20%, Val Loss: 0.7728, Val Acc: 68.75%\n"
     ]
    }
   ],
   "source": [
    "model, train_loss, train_acc, val_loss, val_acc = train_model(model, train_loader, val_loader, device, num_epochs)"
   ]
  },
  {
   "cell_type": "code",
   "execution_count": 61,
   "metadata": {
    "colab": {
     "base_uri": "https://localhost:8080/",
     "height": 957
    },
    "id": "KgL5z6dK1BJC",
    "outputId": "c9c2f5f7-0221-47ce-aeab-f81149f68235"
   },
   "outputs": [
    {
     "data": {
      "image/png": "[encoded data removed]",
      "text/plain": [
       "<Figure size 1000x500 with 1 Axes>"
      ]
     },
     "metadata": {},
     "output_type": "display_data"
    },
    {
     "data": {
      "image/png": "[encoded data removed]",
      "text/plain": [
       "<Figure size 1000x500 with 1 Axes>"
      ]
     },
     "metadata": {},
     "output_type": "display_data"
    }
   ],
   "source": [
    "# Plot training and validation loss\n",
    "plt.figure(figsize=(10, 5))\n",
    "plt.plot(range(1, num_epochs + 1), train_loss, label=\"Train Loss\")\n",
    "plt.plot(range(1, num_epochs + 1), val_loss, label=\"Validation Loss\")\n",
    "plt.xlabel(\"Epoch\")\n",
    "plt.ylabel(\"Loss\")\n",
    "plt.title(\"Training and Validation Loss\")\n",
    "plt.legend()\n",
    "plt.grid(True)\n",
    "plt.savefig(\"validation_train loss.png\")\n",
    "plt.show()\n",
    "\n",
    "# Plot training and validation accuracy\n",
    "plt.figure(figsize=(10, 5))\n",
    "plt.plot(range(1, num_epochs + 1), train_acc, label=\"Train Accuracy\")\n",
    "plt.plot(range(1, num_epochs + 1), val_acc, label=\"Validation Accuracy\")\n",
    "plt.xlabel(\"Epoch\")\n",
    "plt.ylabel(\"Accuracy\")\n",
    "plt.title(\"Training and Validation Accuracy\")\n",
    "plt.legend()\n",
    "plt.grid(True)\n",
    "plt.savefig(\"validation_train accuracy.png\")\n",
    "plt.show()"
   ]
  },
  {
   "cell_type": "code",
   "execution_count": 62,
   "metadata": {
    "colab": {
     "base_uri": "https://localhost:8080/"
    },
    "id": "58dQdi4u1mF-",
    "outputId": "833ad148-b363-4bd0-ea63-172b74ec1081"
   },
   "outputs": [
    {
     "data": {
      "text/plain": [
       "<All keys matched successfully>"
      ]
     },
     "execution_count": 62,
     "metadata": {},
     "output_type": "execute_result"
    }
   ],
   "source": [
    "checkpoint_path = '/content/saved_models/best_model.pth'\n",
    "# Load the best model checkpoint\n",
    "best_model = get_model(device)\n",
    "best_model.load_state_dict(torch.load(checkpoint_path))"
   ]
  },
  {
   "cell_type": "code",
   "execution_count": 63,
   "metadata": {
    "colab": {
     "base_uri": "https://localhost:8080/",
     "height": 678
    },
    "id": "4tQWDM4py37r",
    "outputId": "97f0f6b7-1e0a-4381-f860-5ca0797177c5"
   },
   "outputs": [
    {
     "name": "stdout",
     "output_type": "stream",
     "text": [
      "Classification Report:\n",
      "              precision    recall  f1-score   support\n",
      "\n",
      "      NORMAL       0.71      0.85      0.78       234\n",
      "   PNEUMONIA       0.90      0.79      0.84       390\n",
      "\n",
      "    accuracy                           0.82       624\n",
      "   macro avg       0.81      0.82      0.81       624\n",
      "weighted avg       0.83      0.82      0.82       624\n",
      "\n"
     ]
    },
    {
     "data": {
      "image/png": "[encoded data removed]",
      "text/plain": [
       "<Figure size 500x500 with 2 Axes>"
      ]
     },
     "metadata": {},
     "output_type": "display_data"
    },
    {
     "name": "stdout",
     "output_type": "stream",
     "text": [
      "Test Accuracy: 81.57051282051282%\n"
     ]
    }
   ],
   "source": [
    "accuracy, true_labels, pred_labels = evaluate_model(best_model, test_loader, device, class_names)\n",
    "print(f'Test Accuracy: {accuracy}%')"
   ]
  },
  {
   "cell_type": "code",
   "execution_count": null,
   "metadata": {
    "id": "8L_CGfwLZ5aT"
   },
   "outputs": [],
   "source": []
  }
 ],
 "metadata": {
  "accelerator": "GPU",
  "colab": {
   "gpuType": "T4",
   "provenance": []
  },
  "kernelspec": {
   "display_name": "Python 3 (ipykernel)",
   "language": "python",
   "name": "python3"
  },
  "language_info": {
   "codemirror_mode": {
    "name": "ipython",
    "version": 3
   },
   "file_extension": ".py",
   "mimetype": "text/x-python",
   "name": "python",
   "nbconvert_exporter": "python",
   "pygments_lexer": "ipython3",
   "version": "3.10.9"
  }
 },
 "nbformat": 4,
 "nbformat_minor": 1
}
